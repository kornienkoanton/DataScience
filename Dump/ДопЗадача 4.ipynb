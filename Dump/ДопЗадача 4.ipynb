{
 "cells": [
  {
   "cell_type": "code",
   "execution_count": 2,
   "metadata": {
    "collapsed": false
   },
   "outputs": [
    {
     "name": "stdout",
     "output_type": "stream",
     "text": [
      "0 0 0 0 1\n",
      "2 6 2 -5 0\n",
      "1 6 1 5 -6\n",
      "34 0 -5 1 6\n",
      "—истема не имеет решений\n"
     ]
    }
   ],
   "source": [
    "import numpy as np\n",
    "a11,a12,a13,a14,b1=[int(s) for s in input().split()]\n",
    "a21,a22,a23,a24,b2=[int(s) for s in input().split()]\n",
    "a31,a32,a33,a34,b3=[int(s) for s in input().split()]\n",
    "a41,a42,a43,a44,b4=[int(s) for s in input().split()]\n",
    "M1=np.array([[a11,a12,a13,a14],[a21,a22,a23,a24],[a31,a32,a33,a34],[a41,a42,a43,a44]])\n",
    "v1=np.array([b1,b2,b3,b4])\n",
    "det=np.linalg.det(M1)\n",
    "if det != 0:\n",
    "    r=np.linalg.solve(M1,v1)\n",
    "    print (r[0],r[1],r[2],r[3])\n",
    "else:\n",
    "    print ('—истема не имеет решений')"
   ]
  },
  {
   "cell_type": "code",
   "execution_count": 3,
   "metadata": {
    "collapsed": false
   },
   "outputs": [
    {
     "name": "stdout",
     "output_type": "stream",
     "text": [
      "1 0 1 0 2\n",
      "-1 1 -2 1 -2\n",
      "1 6 1 5 -6\n",
      "34 0 -5 1 6\n",
      "-0.121212121212 -18.6060606061 2.12121212121 20.7272727273\n"
     ]
    }
   ],
   "source": [
    "import numpy as np\n",
    "a11,a12,a13,a14,b1=[int(s) for s in input().split()]\n",
    "a21,a22,a23,a24,b2=[int(s) for s in input().split()]\n",
    "a31,a32,a33,a34,b3=[int(s) for s in input().split()]\n",
    "a41,a42,a43,a44,b4=[int(s) for s in input().split()]\n",
    "M1=np.array([[a11,a12,a13,a14],[a21,a22,a23,a24],[a31,a32,a33,a34],[a41,a42,a43,a44]])\n",
    "v1=np.array([b1,b2,b3,b4])\n",
    "det=np.linalg.det(M1)\n",
    "if det != 0:\n",
    "    r=np.linalg.solve(M1,v1)\n",
    "    print (r[0],r[1],r[2],r[3])\n",
    "else:\n",
    "    print ('—истема не имеет решений')"
   ]
  },
  {
   "cell_type": "code",
   "execution_count": 4,
   "metadata": {
    "collapsed": false
   },
   "outputs": [
    {
     "name": "stdout",
     "output_type": "stream",
     "text": [
      "3\n"
     ]
    }
   ],
   "source": [
    "n=int(input())"
   ]
  },
  {
   "cell_type": "code",
   "execution_count": null,
   "metadata": {
    "collapsed": false
   },
   "outputs": [],
   "source": [
    "import numpy\n",
    "a=[]\n",
    "for i in range(n):\n",
    "    row=input().split()\n",
    "    for i in range(n+1):\n",
    "        row[i]=float(row[i])\n",
    "    a.append(row)"
   ]
  },
  {
   "cell_type": "code",
   "execution_count": 1,
   "metadata": {
    "collapsed": false
   },
   "outputs": [
    {
     "ename": "NameError",
     "evalue": "name 'a' is not defined",
     "output_type": "error",
     "traceback": [
      "\u001b[0;31m---------------------------------------------------------------------------\u001b[0m",
      "\u001b[0;31mNameError\u001b[0m                                 Traceback (most recent call last)",
      "\u001b[0;32m<ipython-input-1-c5a4f3535135>\u001b[0m in \u001b[0;36m<module>\u001b[0;34m()\u001b[0m\n\u001b[0;32m----> 1\u001b[0;31m \u001b[0;32mprint\u001b[0m\u001b[0;34m(\u001b[0m\u001b[0ma\u001b[0m\u001b[0;34m)\u001b[0m\u001b[0;34m\u001b[0m\u001b[0m\n\u001b[0m",
      "\u001b[0;31mNameError\u001b[0m: name 'a' is not defined"
     ]
    }
   ],
   "source": [
    "print(a)"
   ]
  },
  {
   "cell_type": "code",
   "execution_count": 309,
   "metadata": {
    "collapsed": false
   },
   "outputs": [
    {
     "data": {
      "text/plain": [
       "3"
      ]
     },
     "execution_count": 309,
     "metadata": {},
     "output_type": "execute_result"
    }
   ],
   "source": [
    "len(a)"
   ]
  },
  {
   "cell_type": "code",
   "execution_count": 364,
   "metadata": {
    "collapsed": false
   },
   "outputs": [],
   "source": [
    "M=[]\n",
    "Z=[]\n",
    "for i in range(n):    \n",
    "    for j in range(len(a)):\n",
    "        Z.append(a[i][j])\n",
    "    M.append(Z)\n",
    "    Z=[]"
   ]
  },
  {
   "cell_type": "code",
   "execution_count": 365,
   "metadata": {
    "collapsed": false
   },
   "outputs": [
    {
     "data": {
      "text/plain": [
       "[[1.0, 2.0, 3.0, 4.0],\n",
       " [2.0, 3.0, 4.0, 5.0],\n",
       " [3.0, 4.0, 5.0, 6.0],\n",
       " [4.0, 5.0, 6.0, 7.0]]"
      ]
     },
     "execution_count": 365,
     "metadata": {},
     "output_type": "execute_result"
    }
   ],
   "source": [
    "M"
   ]
  },
  {
   "cell_type": "code",
   "execution_count": 372,
   "metadata": {
    "collapsed": false
   },
   "outputs": [],
   "source": [
    "V=[]\n",
    "for i in range(n):\n",
    "    V.append(a[i][n])"
   ]
  },
  {
   "cell_type": "code",
   "execution_count": 370,
   "metadata": {
    "collapsed": false
   },
   "outputs": [],
   "source": [
    "j=0"
   ]
  },
  {
   "cell_type": "code",
   "execution_count": 373,
   "metadata": {
    "collapsed": false
   },
   "outputs": [
    {
     "data": {
      "text/plain": [
       "[5.0, 6.0, 7.0, 8.0]"
      ]
     },
     "execution_count": 373,
     "metadata": {},
     "output_type": "execute_result"
    }
   ],
   "source": [
    "V"
   ]
  },
  {
   "cell_type": "code",
   "execution_count": 375,
   "metadata": {
    "collapsed": false
   },
   "outputs": [],
   "source": [
    "M1=np.array(M)"
   ]
  },
  {
   "cell_type": "code",
   "execution_count": 378,
   "metadata": {
    "collapsed": false
   },
   "outputs": [
    {
     "name": "stdout",
     "output_type": "stream",
     "text": [
      "—истема не имеет решений\n"
     ]
    }
   ],
   "source": [
    "M1=np.array(M)\n",
    "V1=np.array(V)\n",
    "det=np.linalg.det(M1)\n",
    "if det != 0:\n",
    "    r=np.linalg.solve(M1,v1)\n",
    "    print (r[0],r[1],r[2],r[3])\n",
    "else:\n",
    "    print ('—истема не имеет решений')"
   ]
  },
  {
   "cell_type": "code",
   "execution_count": 384,
   "metadata": {
    "collapsed": false
   },
   "outputs": [
    {
     "name": "stdout",
     "output_type": "stream",
     "text": [
      "2\n",
      "1 2 3\n",
      "4 5 6\n",
      "-1.0\n",
      "2.0\n"
     ]
    }
   ],
   "source": [
    "import numpy as np\n",
    "n=int(input())\n",
    "a=[]\n",
    "for i in range(n):\n",
    "    row=input().split()\n",
    "    for i in range(n+1):\n",
    "        row[i]=float(row[i])\n",
    "    a.append(row)\n",
    "M=[]\n",
    "Z=[]\n",
    "for i in range(n):    \n",
    "    for j in range(len(a)):\n",
    "        Z.append(a[i][j])\n",
    "    M.append(Z)\n",
    "    Z=[]\n",
    "V=[]\n",
    "for i in range(n):\n",
    "    V.append(a[i][n])\n",
    "M1=np.array(M)\n",
    "v1=np.array(V)\n",
    "det=np.linalg.det(M1)\n",
    "if det != 0:\n",
    "    r=np.linalg.solve(M1,v1)\n",
    "    for i in range(n):\n",
    "        print (r[i])\n",
    "else:\n",
    "    print ('Cистема не имеет решений')"
   ]
  },
  {
   "cell_type": "code",
   "execution_count": 380,
   "metadata": {
    "collapsed": false
   },
   "outputs": [
    {
     "name": "stdout",
     "output_type": "stream",
     "text": [
      "2\n",
      "1 2 3\n",
      "2 3 4\n"
     ]
    }
   ],
   "source": [
    "n=int(input())\n",
    "a=[]\n",
    "for i in range(n):\n",
    "    row=input().split()\n",
    "    for i in range(n+1):\n",
    "        row[i]=float(row[i])\n",
    "    a.append(row)\n",
    "M=[]\n",
    "Z=[]\n",
    "for i in range(n):    \n",
    "    for j in range(len(a)):\n",
    "        Z.append(a[i][j])\n",
    "    M.append(Z)\n",
    "    Z=[]\n",
    "V=[]"
   ]
  },
  {
   "cell_type": "code",
   "execution_count": 381,
   "metadata": {
    "collapsed": false
   },
   "outputs": [
    {
     "data": {
      "text/plain": [
       "[[1.0, 2.0], [2.0, 3.0]]"
      ]
     },
     "execution_count": 381,
     "metadata": {},
     "output_type": "execute_result"
    }
   ],
   "source": [
    "M"
   ]
  },
  {
   "cell_type": "code",
   "execution_count": null,
   "metadata": {
    "collapsed": true
   },
   "outputs": [],
   "source": []
  },
  {
   "cell_type": "code",
   "execution_count": null,
   "metadata": {
    "collapsed": true
   },
   "outputs": [],
   "source": []
  },
  {
   "cell_type": "code",
   "execution_count": null,
   "metadata": {
    "collapsed": true
   },
   "outputs": [],
   "source": []
  },
  {
   "cell_type": "code",
   "execution_count": null,
   "metadata": {
    "collapsed": true
   },
   "outputs": [],
   "source": []
  },
  {
   "cell_type": "code",
   "execution_count": null,
   "metadata": {
    "collapsed": true
   },
   "outputs": [],
   "source": []
  },
  {
   "cell_type": "code",
   "execution_count": 200,
   "metadata": {
    "collapsed": false
   },
   "outputs": [
    {
     "name": "stdout",
     "output_type": "stream",
     "text": [
      "1 2\n"
     ]
    }
   ],
   "source": [
    "a,b=[int(s) for s in input().split()]"
   ]
  },
  {
   "cell_type": "code",
   "execution_count": 201,
   "metadata": {
    "collapsed": false
   },
   "outputs": [
    {
     "data": {
      "text/plain": [
       "0.5"
      ]
     },
     "execution_count": 201,
     "metadata": {},
     "output_type": "execute_result"
    }
   ],
   "source": [
    "a/b"
   ]
  },
  {
   "cell_type": "code",
   "execution_count": null,
   "metadata": {
    "collapsed": true
   },
   "outputs": [],
   "source": []
  }
 ],
 "metadata": {
  "anaconda-cloud": {},
  "kernelspec": {
   "display_name": "Python [conda root]",
   "language": "python",
   "name": "conda-root-py"
  },
  "language_info": {
   "codemirror_mode": {
    "name": "ipython",
    "version": 2
   },
   "file_extension": ".py",
   "mimetype": "text/x-python",
   "name": "python",
   "nbconvert_exporter": "python",
   "pygments_lexer": "ipython2",
   "version": "2.7.13"
  }
 },
 "nbformat": 4,
 "nbformat_minor": 1
}
