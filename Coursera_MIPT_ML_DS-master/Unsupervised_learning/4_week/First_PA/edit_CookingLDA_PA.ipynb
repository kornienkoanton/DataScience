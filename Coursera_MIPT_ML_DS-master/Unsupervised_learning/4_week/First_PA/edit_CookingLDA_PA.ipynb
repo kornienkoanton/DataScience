{
 "cells": [
  {
   "cell_type": "markdown",
   "metadata": {},
   "source": [
    "# Programming Assignment: \n",
    "## Готовим LDA по рецептам"
   ]
  },
  {
   "cell_type": "markdown",
   "metadata": {},
   "source": [
    "Как вы уже знаете, в тематическом моделировании делается предположение о том, что для определения тематики порядок слов в документе не важен; об этом гласит гипотеза «мешка слов». Сегодня мы будем работать с несколько нестандартной для тематического моделирования коллекцией, которую можно назвать «мешком ингредиентов», потому что  она состоит из рецептов блюд разных кухонь. Тематические модели ищут слова, которые часто вместе встречаются в документах, и составляют из них темы. Мы попробуем применить эту идею к рецептам и найти кулинарные «темы». Эта коллекция хороша тем, что не требует предобработки. Кроме того, эта задача достаточно наглядно иллюстрирует принцип работы тематических моделей.\n",
    "\n",
    "Для выполнения заданий, помимо часто используемых в курсе библиотек, потребуются модули *json* и *gensim*. Первый входит в дистрибутив Anaconda, второй можно поставить командой \n",
    "\n",
    "*pip install gensim*\n",
    "\n",
    "Построение модели занимает некоторое время. На ноутбуке с процессором Intel Core i7 и тактовой частотой 2400 МГц на построение одной модели уходит менее 10 минут."
   ]
  },
  {
   "cell_type": "markdown",
   "metadata": {},
   "source": [
    "### Загрузка данных"
   ]
  },
  {
   "cell_type": "markdown",
   "metadata": {},
   "source": [
    "Коллекция дана в json-формате: для каждого рецепта известны его id, кухня (cuisine) и список ингредиентов, в него входящих. Загрузить данные можно с помощью модуля json (он входит в дистрибутив Anaconda):"
   ]
  },
  {
   "cell_type": "code",
   "execution_count": 1,
   "metadata": {
    "collapsed": true
   },
   "outputs": [],
   "source": [
    "import json"
   ]
  },
  {
   "cell_type": "code",
   "execution_count": 2,
   "metadata": {
    "collapsed": false
   },
   "outputs": [],
   "source": [
    "with open(\"recipes.json\") as f:\n",
    "    recipes = json.load(f)"
   ]
  },
  {
   "cell_type": "code",
   "execution_count": 9,
   "metadata": {
    "collapsed": false
   },
   "outputs": [
    {
     "data": {
      "text/plain": [
       "{u'cuisine': u'southern_us',\n",
       " u'id': 25693,\n",
       " u'ingredients': [u'plain flour',\n",
       "  u'ground pepper',\n",
       "  u'salt',\n",
       "  u'tomatoes',\n",
       "  u'ground black pepper',\n",
       "  u'thyme',\n",
       "  u'eggs',\n",
       "  u'green tomatoes',\n",
       "  u'yellow corn meal',\n",
       "  u'milk',\n",
       "  u'vegetable oil']}"
      ]
     },
     "execution_count": 9,
     "metadata": {},
     "output_type": "execute_result"
    }
   ],
   "source": [
    "recipes[1]"
   ]
  },
  {
   "cell_type": "code",
   "execution_count": 3,
   "metadata": {
    "collapsed": false
   },
   "outputs": [
    {
     "name": "stdout",
     "output_type": "stream",
     "text": [
      "greek\n"
     ]
    }
   ],
   "source": [
    "print recipes[0]['cuisine']"
   ]
  },
  {
   "cell_type": "markdown",
   "metadata": {},
   "source": [
    "### Составление корпуса"
   ]
  },
  {
   "cell_type": "code",
   "execution_count": 4,
   "metadata": {
    "collapsed": false
   },
   "outputs": [],
   "source": [
    "from gensim import corpora, models\n",
    "import numpy as np"
   ]
  },
  {
   "cell_type": "markdown",
   "metadata": {},
   "source": [
    "Наша коллекция небольшая, и целиком помещается в оперативную память. Gensim может работать с такими данными и не требует их сохранения на диск в специальном формате. Для этого коллекция должна быть представлена в виде списка списков, каждый внутренний список соответствует отдельному документу и состоит из его слов. Пример коллекции из двух документов: \n",
    "\n",
    "[[\"hello\", \"world\"], [\"programming\", \"in\", \"python\"]]\n",
    "\n",
    "Преобразуем наши данные в такой формат, а затем создадим объекты corpus и dictionary, с которыми будет работать модель."
   ]
  },
  {
   "cell_type": "code",
   "execution_count": 5,
   "metadata": {
    "collapsed": false
   },
   "outputs": [],
   "source": [
    "texts = [recipe[\"ingredients\"] for recipe in recipes]\n",
    "dictionary = corpora.Dictionary(texts)   # составляем словарь\n",
    "corpus = [dictionary.doc2bow(text) for text in texts]  # составляем корпус документов"
   ]
  },
  {
   "cell_type": "code",
   "execution_count": 6,
   "metadata": {
    "collapsed": false
   },
   "outputs": [
    {
     "name": "stdout",
     "output_type": "stream",
     "text": [
      "[u'romaine lettuce', u'black olives', u'grape tomatoes', u'garlic', u'pepper', u'purple onion', u'seasoning', u'garbanzo beans', u'feta cheese crumbles']\n",
      "[(0, 1), (1, 1), (2, 1), (3, 1), (4, 1), (5, 1), (6, 1), (7, 1), (8, 1)]\n"
     ]
    }
   ],
   "source": [
    "print texts[0]\n",
    "print corpus[0]"
   ]
  },
  {
   "cell_type": "markdown",
   "metadata": {},
   "source": [
    "У объекта dictionary есть полезная переменная dictionary.token2id, позволяющая находить соответствие между ингредиентами и их индексами."
   ]
  },
  {
   "cell_type": "markdown",
   "metadata": {},
   "source": [
    "### Обучение модели\n",
    "Вам может понадобиться [документация](https://radimrehurek.com/gensim/models/ldamodel.html) LDA в gensim."
   ]
  },
  {
   "cell_type": "markdown",
   "metadata": {},
   "source": [
    "__Задание 1.__ Обучите модель LDA с 40 темами, установив количество проходов по коллекции 5 и оставив остальные параметры по умолчанию. \n",
    "\n",
    "\n",
    "Затем вызовите метод модели *show_topics*, указав количество тем 40 и количество токенов 10, и сохраните результат (топы ингредиентов в темах) в отдельную переменную. Если при вызове метода *show_topics* указать параметр *formatted=True*, то топы ингредиентов будет удобно выводить на печать, если *formatted=False*, будет удобно работать со списком программно. Выведите топы на печать, рассмотрите темы, а затем ответьте на вопрос:\n",
    "\n",
    "Сколько раз ингредиенты \"salt\", \"sugar\", \"water\", \"mushrooms\", \"chicken\", \"eggs\" встретились среди топов-10 всех 40 тем? При ответе __не нужно__ учитывать составные ингредиенты, например, \"hot water\".\n",
    "\n",
    "Передайте 6 чисел в функцию save_answers1 и загрузите сгенерированный файл в форму.\n",
    "\n",
    "У gensim нет возможности фиксировать случайное приближение через параметры метода, но библиотека использует numpy для инициализации матриц. Поэтому, по утверждению автора библиотеки, фиксировать случайное приближение нужно командой, которая написана в следующей ячейке. __Перед строкой кода с построением модели обязательно вставляйте указанную строку фиксации random.seed.__"
   ]
  },
  {
   "cell_type": "code",
   "execution_count": 7,
   "metadata": {
    "collapsed": false
   },
   "outputs": [
    {
     "name": "stdout",
     "output_type": "stream",
     "text": [
      "CPU times: user 6min 36s, sys: 2.49 s, total: 6min 39s\n",
      "Wall time: 6min 41s\n"
     ]
    }
   ],
   "source": [
    "np.random.seed(76543)\n",
    "# здесь код для построения модели:\n",
    "%time ldamodel = models.ldamodel.LdaModel(corpus, id2word=dictionary, num_topics=40, passes=5)\n",
    "topics = ldamodel.show_topics(num_topics=40, formatted=False)"
   ]
  },
  {
   "cell_type": "code",
   "execution_count": 14,
   "metadata": {
    "collapsed": false
   },
   "outputs": [
    {
     "name": "stdout",
     "output_type": "stream",
     "text": [
      "[(0, [(u'cooking spray', 0.08893168359335854), (u'salt', 0.083023313122701503), (u'garlic cloves', 0.079694482383533452), (u'olive oil', 0.068056697732332527), (u'chopped onion', 0.06574028630309077), (u'crushed red pepper', 0.036603425389428054), (u'fat free less sodium chicken broth', 0.036151588839948151), (u'black pepper', 0.034352059579260533), (u'ground black pepper', 0.032028828039853005), (u'water', 0.032026346546356492)]), (1, [(u'carrots', 0.084685047417615539), (u'onions', 0.0594771859048897), (u'sauce', 0.056696097267259202), (u'cabbage', 0.056348277206383988), (u'spinach', 0.046496298177981406), (u'beef', 0.039387696216511191), (u'low sodium chicken broth', 0.033278198173197146), (u'water', 0.032572054032540057), (u'firm tofu', 0.029467834271367246), (u'green cabbage', 0.02771940582568299)]), (2, [(u'cracked black pepper', 0.065793037833935586), (u'dry red wine', 0.058809351108989161), (u'shortening', 0.041491648463130436), (u'beef broth', 0.041121673243871629), (u'vegetable oil cooking spray', 0.039788950941651489), (u'grape tomatoes', 0.0394843382554654), (u'cilantro sprigs', 0.035205806717994441), (u'french bread', 0.030809498417447793), (u'dried rosemary', 0.029339305231140561), (u'all-purpose flour', 0.029082580099877159)]), (3, [(u'potatoes', 0.13264991233166132), (u'oil', 0.1239289623485858), (u'salt', 0.063326733043941347), (u'chickpeas', 0.059179676560327243), (u'onions', 0.042020178848626175), (u'coriander', 0.038367186668332588), (u'pepper', 0.03446319680249918), (u'saffron', 0.033048438299776876), (u'chopped tomatoes', 0.031199828274823337), (u'vegetables', 0.026229917191349702)]), (4, [(u'green bell pepper', 0.062137194484359851), (u'garlic powder', 0.05751836529465041), (u'cayenne pepper', 0.055607203040325785), (u'salt', 0.053129801326957111), (u'paprika', 0.04435725169468243), (u'onions', 0.035222635468300588), (u'dried thyme', 0.034801505725109268), (u'worcestershire sauce', 0.031990203148110616), (u'onion powder', 0.027267339886862418), (u'ground black pepper', 0.027067277200853605)]), (5, [(u'ground cumin', 0.076627285122494185), (u'salt', 0.052261476695032054), (u'ground coriander', 0.048314322271712437), (u'onions', 0.036445389125942876), (u'olive oil', 0.035941283188257636), (u'garlic', 0.033314493875509325), (u'paprika', 0.028238586829496488), (u'tumeric', 0.025756401308228271), (u'cayenne pepper', 0.02293977686273951), (u'garlic cloves', 0.022337497196979032)]), (6, [(u'ground cinnamon', 0.10667595663455669), (u'ground nutmeg', 0.087421774887951817), (u'honey', 0.056105924125548913), (u'ground allspice', 0.046776482531706479), (u'raisins', 0.046276683476044966), (u'ground cloves', 0.045913091159994153), (u'light brown sugar', 0.043664170427418492), (u'ground ginger', 0.03118742081288901), (u'brown sugar', 0.030182049216845877), (u'margarine', 0.030117163634709392)]), (7, [(u'zucchini', 0.084742642422514031), (u'plum tomatoes', 0.080497578113583726), (u'fresh basil', 0.07737071565988092), (u'olive oil', 0.073934264873813743), (u'eggplant', 0.046646113791840443), (u'salt', 0.039214680830128641), (u'grated parmesan cheese', 0.030897630465110178), (u'garlic cloves', 0.029836911250445252), (u'red bell pepper', 0.029530917231211366), (u'spaghetti', 0.02864503120588404)]), (8, [(u'rice', 0.087167378750825364), (u'cooking oil', 0.0770987822019185), (u'salt', 0.067277135535200483), (u'water', 0.058749189922320151), (u'basmati rice', 0.050622406492366372), (u'vinegar', 0.048994075835857541), (u'ginger', 0.045755197636105652), (u'curry leaves', 0.035831587208418392), (u'mint leaves', 0.029395533471377373), (u'red cabbage', 0.023020562542491161)]), (9, [(u'dried oregano', 0.078917014125290813), (u'onions', 0.072724015772864248), (u'garlic', 0.060870846457765783), (u'tomato sauce', 0.057305229057996308), (u'salt', 0.052576199890923207), (u'ground beef', 0.050432908072482019), (u'diced tomatoes', 0.049080315157360381), (u'dried basil', 0.043086220699036733), (u'tomato paste', 0.040347252869254044), (u'olive oil', 0.034981688994508611)]), (10, [(u'white wine', 0.049367681116827954), (u'ground black pepper', 0.048029125078343005), (u'butter', 0.037340281661360553), (u'russet potatoes', 0.036477703219749795), (u'chopped fresh chives', 0.030782680251151686), (u'kosher salt', 0.029591436646871899), (u'red potato', 0.027102675306152648), (u'ham', 0.02662087179123895), (u'large eggs', 0.025770559902268713), (u'salt', 0.02406731181770843)]), (11, [(u'jalapeno chilies', 0.066996273870029308), (u'salt', 0.064211043652989824), (u'avocado', 0.050618875873464794), (u'lime', 0.042149718346097244), (u'purple onion', 0.034953554052417714), (u'garlic', 0.034417628909233187), (u'olive oil', 0.032394638512492933), (u'fresh cilantro', 0.031557259666404186), (u'cilantro', 0.030696574173230969), (u'lime juice', 0.029169836782926364)]), (12, [(u'cucumber', 0.13387370070367377), (u'lean ground beef', 0.07042634503602041), (u'cider vinegar', 0.045773470475447726), (u'feta cheese', 0.045341315625472334), (u'lemon wedge', 0.039782988887878755), (u'romaine lettuce', 0.039380622131585316), (u'cream', 0.035210285179868468), (u'cherry tomatoes', 0.033997167982863202), (u'chili', 0.03053850337242103), (u'taco seasoning mix', 0.027446808482652022)]), (13, [(u'sour cream', 0.085502447593804945), (u'salsa', 0.0563216687559722), (u'shredded cheddar cheese', 0.049190995951747044), (u'flour tortillas', 0.048325541653898796), (u'chili powder', 0.040649866957816298), (u'black beans', 0.039468024154463495), (u'green onions', 0.033862702745164501), (u'ground cumin', 0.031229330247281958), (u'corn tortillas', 0.025747086766038263), (u'cheddar cheese', 0.023999503101898981)]), (14, [(u'white sugar', 0.11057378122584113), (u'sweet potatoes', 0.085889809769788841), (u'fresh mint', 0.058101769426575987), (u'black peppercorns', 0.049503586868320452), (u'fennel seeds', 0.045058371287366526), (u'red wine', 0.0369689265867073), (u'vegetable stock', 0.032155649828819757), (u'sugar', 0.02423241999328667), (u'maple syrup', 0.02260354568906477), (u'garlic chili sauce', 0.021670741100373835)]), (15, [(u'cold water', 0.089901875182646793), (u'cinnamon sticks', 0.071898066225266399), (u'boiling water', 0.056970939038014624), (u'sugar', 0.044393889192308023), (u'star anise', 0.041122750693504857), (u'slivered almonds', 0.032580500436037219), (u'cake flour', 0.029463615896518053), (u'panko breadcrumbs', 0.02673348870566802), (u'green olives', 0.02607419728372698), (u'apple cider vinegar', 0.023535827999710102)]), (16, [(u'extra-virgin olive oil', 0.10083323829836827), (u'garlic cloves', 0.059852691103642379), (u'olive oil', 0.050279471669856364), (u'flat leaf parsley', 0.046381772171346279), (u'freshly ground pepper', 0.039457041002068968), (u'fresh lemon juice', 0.038560812772401684), (u'salt', 0.038080060156889299), (u'dry white wine', 0.036468942702369868), (u'large garlic cloves', 0.032168171728790607), (u'ground black pepper', 0.029174154327681182)]), (17, [(u'coconut milk', 0.14039473267660521), (u'parsley', 0.053520649826206225), (u'thyme', 0.0478764449185555), (u'chicken thighs', 0.04485959967625669), (u'garlic', 0.034839085527598498), (u'coconut oil', 0.033375879670636703), (u'onions', 0.033202434624158637), (u'Thai red curry paste', 0.024500029872723199), (u'bread', 0.024385440595203776), (u'salt', 0.019675543148908011)]), (18, [(u'salt', 0.10286475889374327), (u'all-purpose flour', 0.090362466014752355), (u'eggs', 0.08657291592985511), (u'milk', 0.085189244525206251), (u'butter', 0.070028486346010096), (u'baking powder', 0.054567443817826293), (u'sugar', 0.049774314966074235), (u'flour', 0.039811370974946109), (u'baking soda', 0.034297844284951008), (u'buttermilk', 0.030033979348320788)]), (19, [(u'curry powder', 0.13496195156332094), (u'frozen peas', 0.071171290698734943), (u'long-grain rice', 0.06477582695088907), (u'sweetened condensed milk', 0.052799270516859648), (u'greek yogurt', 0.04635656686463413), (u'egg whites', 0.038102212715093842), (u'cauliflower', 0.032214229450347256), (u'cardamom pods', 0.029779082802830432), (u'black-eyed peas', 0.02810136035782532), (u'ground cayenne pepper', 0.026441439466019134)]), (20, [(u'peanut oil', 0.04399137025077627), (u'ground white pepper', 0.041780605125565327), (u'beansprouts', 0.035265384249864404), (u'Sriracha', 0.034646633859532004), (u'rice noodles', 0.031884377569569154), (u'medium shrimp', 0.031803769002536134), (u'peanuts', 0.029756053065311941), (u'minced ginger', 0.025379689895871714), (u'fish sauce', 0.02533520815262439), (u'english cucumber', 0.023862186918150639)]), (21, [(u'boneless skinless chicken breast halves', 0.11640332568244371), (u'coarse salt', 0.10706265479411331), (u'ground pepper', 0.067166318595237043), (u'sweet onion', 0.060331028757312416), (u'mayonaise', 0.055043373709271037), (u'pork tenderloin', 0.0421111484123666), (u'minced garlic', 0.039634875785878501), (u'juice', 0.037646860212467277), (u'minced onion', 0.035496123096479607), (u'dried parsley', 0.031200914254888946)]), (22, [(u'diced onions', 0.079666106233620484), (u'lettuce', 0.053874361311095048), (u'self rising flour', 0.053581399591004601), (u'provolone cheese', 0.04767666800158088), (u'iceberg lettuce', 0.032195728798238232), (u'frozen pastry puff sheets', 0.028023578678438056), (u'romano cheese', 0.026366207094139435), (u'semi-sweet chocolate morsels', 0.024739932878896833), (u'shredded cheese', 0.024250997391988646), (u'reduced-fat sour cream', 0.023994981899309376)]), (23, [(u'lemon juice', 0.1859025967625941), (u'dijon mustard', 0.092396860942664361), (u'creole seasoning', 0.050843831695975908), (u'white pepper', 0.040348907919114795), (u'fresh orange juice', 0.038844295144291045), (u'nutmeg', 0.038060844779090865), (u'kale', 0.028640742093208438), (u'mayonaise', 0.028356509516377686), (u'salmon fillets', 0.02752542476035702), (u'cream cheese, soften', 0.027435155618422604)]), (24, [(u'sugar', 0.082453218520814039), (u'whipping cream', 0.072329870172957264), (u'orange juice', 0.057250463780346789), (u'hot water', 0.053546189662835808), (u'chopped garlic', 0.04972179931298535), (u'orange', 0.049390725220929042), (u'bananas', 0.03286020336946778), (u'bread flour', 0.029905571050704398), (u'water', 0.028949545123101893), (u'brandy', 0.028938175672233453)]), (25, [(u'salt', 0.065871753443314043), (u'cumin seed', 0.062784252638674626), (u'onions', 0.054114490241465682), (u'ground turmeric', 0.044684336544209516), (u'garam masala', 0.04108780661755821), (u'green chilies', 0.040652071900723619), (u'clove', 0.040140537637780783), (u'chili powder', 0.031494442303467207), (u'tomatoes', 0.031275683612755061), (u'oil', 0.028312119851508517)]), (26, [(u'fish sauce', 0.084208641925038547), (u'white vinegar', 0.046084312302042296), (u'sugar', 0.041848864506921261), (u'garlic', 0.036764958396804472), (u'lime juice', 0.035671568932308113), (u'vegetable oil', 0.035486682652469244), (u'shallots', 0.033799280291788934), (u'water', 0.030368191568572921), (u'lemongrass', 0.030267956649511308), (u'red chili peppers', 0.027278543818785073)]), (27, [(u'grated parmesan cheese', 0.10281313277605161), (u'warm water', 0.056023143719680417), (u'salt', 0.055852693884866238), (u'shredded mozzarella cheese', 0.045719203650082821), (u'olive oil', 0.043353303369085862), (u'ricotta cheese', 0.038497923750263757), (u'active dry yeast', 0.037084913718776182), (u'mozzarella cheese', 0.035547862325468964), (u'butter', 0.032079773850890052), (u'italian seasoning', 0.03118127368906088)]), (28, [(u'shrimp', 0.19921560106740363), (u'pork', 0.056731929515849475), (u'baby spinach', 0.055199861626734868), (u'jasmine rice', 0.034041225114900799), (u'unsweetened coconut milk', 0.03334223253859242), (u'fresh tomatoes', 0.0326988589456116), (u'noodles', 0.032239892816296717), (u'black mustard seeds', 0.031090906246051944), (u'sausage casings', 0.028473920185160449), (u'sea scallops', 0.024708106354625552)]), (29, [(u'mushrooms', 0.13370062600240298), (u'white wine vinegar', 0.082420861230125972), (u'shallots', 0.047723143819926948), (u'boneless chicken breast', 0.041587891954967836), (u'olive oil', 0.033856497284732862), (u'chopped fresh sage', 0.032934209580945631), (u'butter', 0.027348052639168334), (u'chorizo sausage', 0.025859993446401667), (u'blanched almonds', 0.02570197423625243), (u'chicken drumsticks', 0.024006902993904781)]), (30, [(u'large eggs', 0.089062231258919405), (u'unsalted butter', 0.087749122814195266), (u'sugar', 0.066706636124197263), (u'salt', 0.057487558616575611), (u'all-purpose flour', 0.054236899435070214), (u'heavy cream', 0.050370914632283117), (u'whole milk', 0.038227090700873829), (u'vanilla extract', 0.033379734684661419), (u'granulated sugar', 0.032895473701459316), (u'large egg yolks', 0.029049410950041505)]), (31, [(u'salt', 0.071339350801740795), (u'ground red pepper', 0.063071473248333842), (u'water', 0.052144710591120864), (u'finely chopped onion', 0.052130563741673214), (u'chopped celery', 0.04576856671916988), (u'green beans', 0.031759341206338713), (u'hot pepper sauce', 0.031215682847699176), (u'long grain white rice', 0.031113719683935188), (u'chopped onion', 0.030216000571252826), (u'chopped green bell pepper', 0.028476312336976343)]), (32, [(u'water', 0.06287781815156801), (u'fine sea salt', 0.059885257642065294), (u'lemon zest', 0.050299856797266271), (u'fresh spinach', 0.048544649363033182), (u'yukon gold potatoes', 0.041418503772449503), (u'sesame seeds', 0.035932093547977502), (u'collard greens', 0.033622654691453195), (u'parmigiano reggiano cheese', 0.031740243889248634), (u'rice flour', 0.03088222539595115), (u'tofu', 0.029141558274488503)]), (33, [(u'balsamic vinegar', 0.13345457601766372), (u'dark soy sauce', 0.070321020054338879), (u'chopped fresh mint', 0.06636700355109669), (u'baguette', 0.06290110355131559), (u'broccoli', 0.050702552990296003), (u'penne', 0.031336646581226472), (u'mint', 0.031093589359164689), (u'tequila', 0.028204513804840153), (u'red kidney beans', 0.01929381323437588), (u'arugula', 0.018389991254781399)]), (34, [(u'onions', 0.089085707471460565), (u'salt', 0.073919225951533787), (u'garlic', 0.059243801214696634), (u'olive oil', 0.0486181823364892), (u'bay leaves', 0.041403856253007007), (u'ground black pepper', 0.040927384955912617), (u'chicken stock', 0.037726916953243664), (u'pepper', 0.037275092357760171), (u'carrots', 0.036579406224027111), (u'chicken', 0.031641802885223586)]), (35, [(u'soy sauce', 0.097333460210104486), (u'sesame oil', 0.05179735628351069), (u'sugar', 0.042182965449773208), (u'corn starch', 0.041984278268559438), (u'garlic', 0.039126762140688998), (u'green onions', 0.035174153493348737), (u'scallions', 0.034526422388543032), (u'rice vinegar', 0.034279495110043412), (u'salt', 0.028955740531032913), (u'water', 0.028487727902946729)]), (36, [(u'cheese', 0.10850055118031686), (u'garlic salt', 0.064459690669521771), (u'rice wine', 0.060875479422394414), (u'chives', 0.057857051533694207), (u'chicken breast halves', 0.043411401321535384), (u'shredded sharp cheddar cheese', 0.040932366001012577), (u'roasted peanuts', 0.040240696971079078), (u'Mexican cheese blend', 0.038537740457462201), (u'non-fat sour cream', 0.037499554691035115), (u'dashi', 0.033584279538834229)]), (37, [(u'chicken broth', 0.17999160062170211), (u'chicken breasts', 0.10057712507317257), (u'onions', 0.061890531149927423), (u'crushed red pepper flakes', 0.053363655286096538), (u'garlic', 0.053173533714141664), (u'pepper', 0.040642865177376954), (u'chopped parsley', 0.037946240223094452), (u'salt', 0.034784082726492783), (u'olive oil', 0.033766631399446974), (u'bay leaf', 0.025032033012338407)]), (38, [(u'olive oil', 0.063505123706221189), (u'red wine vinegar', 0.060345068935401036), (u'salt', 0.054207015287186092), (u'parmesan cheese', 0.045452526393074011), (u'garlic', 0.040618271781896108), (u'fresh basil leaves', 0.040307700322139123), (u'extra-virgin olive oil', 0.036865114941628675), (u'pepper', 0.030579913039912872), (u'ground black pepper', 0.029771155477254362), (u'tomatoes', 0.029571536712105082)]), (39, [(u'canola oil', 0.10058287392851892), (u'fresh lime juice', 0.06616517293397399), (u'chopped cilantro fresh', 0.06274269600327359), (u'kosher salt', 0.058468985000598432), (u'garlic cloves', 0.053626273422525628), (u'peeled fresh ginger', 0.034495694785873644), (u'chiles', 0.030200642640448895), (u'vegetable oil', 0.029459568934012251), (u'serrano chile', 0.02766543733693199), (u'boneless chicken skinless thigh', 0.025502752658135532)])]\n"
     ]
    }
   ],
   "source": [
    "print topics"
   ]
  },
  {
   "cell_type": "code",
   "execution_count": 43,
   "metadata": {
    "collapsed": false
   },
   "outputs": [
    {
     "name": "stdout",
     "output_type": "stream",
     "text": [
      "0.0657402863031\n"
     ]
    }
   ],
   "source": [
    "print topics[0][1][][1]"
   ]
  },
  {
   "cell_type": "code",
   "execution_count": 35,
   "metadata": {
    "collapsed": false
   },
   "outputs": [
    {
     "data": {
      "text/plain": [
       "17"
      ]
     },
     "execution_count": 35,
     "metadata": {},
     "output_type": "execute_result"
    }
   ],
   "source": [
    "dictionary.token2id[\"salt\"]"
   ]
  },
  {
   "cell_type": "code",
   "execution_count": 33,
   "metadata": {
    "collapsed": false
   },
   "outputs": [],
   "source": [
    "results = []\n",
    "for token in [\"salt\", \"sugar\", \"water\", \"mushrooms\", \"chicken\", \"eggs\"]:\n",
    "    token_id = str(dictionary.token2id[token])\n",
    "    n = 0\n",
    "    for i in range(40):\n",
    "        for j in range(10):\n",
    "            if topics[i][1][j][0] == token:\n",
    "                n += 1\n",
    "    results.append(n)"
   ]
  },
  {
   "cell_type": "code",
   "execution_count": 34,
   "metadata": {
    "collapsed": false
   },
   "outputs": [
    {
     "name": "stdout",
     "output_type": "stream",
     "text": [
      "[20, 7, 8, 1, 1, 1]\n"
     ]
    }
   ],
   "source": [
    "print results"
   ]
  },
  {
   "cell_type": "code",
   "execution_count": 45,
   "metadata": {
    "collapsed": false
   },
   "outputs": [
    {
     "name": "stdout",
     "output_type": "stream",
     "text": [
      "2.03180871677\n"
     ]
    }
   ],
   "source": [
    "sum_=[]\n",
    "for token in [\"salt\", \"sugar\", \"water\", \"mushrooms\", \"chicken\", \"eggs\"]:\n",
    "    for i in range(40):\n",
    "        for j in range(10):\n",
    "            if topics[i][1][j][0] == token:\n",
    "                sum_.append(topics[i][1][j][1])\n",
    "print sum(sum_)"
   ]
  },
  {
   "cell_type": "code",
   "execution_count": 46,
   "metadata": {
    "collapsed": false
   },
   "outputs": [
    {
     "name": "stdout",
     "output_type": "stream",
     "text": [
      "2.03180871677\n"
     ]
    }
   ],
   "source": [
    "sum_1=0\n",
    "for token in [\"salt\", \"sugar\", \"water\", \"mushrooms\", \"chicken\", \"eggs\"]:\n",
    "    for i in range(40):\n",
    "        for j in range(10):\n",
    "            if topics[i][1][j][0] == token:\n",
    "                sum_1 +=topics[i][1][j][1]\n",
    "print sum_1"
   ]
  },
  {
   "cell_type": "code",
   "execution_count": null,
   "metadata": {
    "collapsed": true
   },
   "outputs": [],
   "source": [
    "def save_answers1(results):\n",
    "    with open(\"cooking_LDA_pa_task1.txt\", \"w\") as fout:\n",
    "        fout.write(\" \".join([str(el) for el in results]))"
   ]
  },
  {
   "cell_type": "code",
   "execution_count": null,
   "metadata": {
    "collapsed": false
   },
   "outputs": [],
   "source": [
    "save_answers1(results)"
   ]
  },
  {
   "cell_type": "markdown",
   "metadata": {},
   "source": [
    "### Фильтрация словаря\n",
    "В топах тем гораздо чаще встречаются первые три рассмотренных ингредиента, чем последние три. При этом наличие в рецепте курицы, яиц и грибов яснее дает понять, что мы будем готовить, чем наличие соли, сахара и воды. Таким образом, даже в рецептах есть слова, часто встречающиеся в текстах и не несущие смысловой нагрузки, и поэтому их не желательно видеть в темах. Наиболее простой прием борьбы с такими фоновыми элементами — фильтрация словаря по частоте. Обычно словарь фильтруют с двух сторон: убирают очень редкие слова (в целях экономии памяти) и очень частые слова (в целях повышения интерпретируемости тем). Мы уберем только частые слова."
   ]
  },
  {
   "cell_type": "code",
   "execution_count": 47,
   "metadata": {
    "collapsed": true
   },
   "outputs": [],
   "source": [
    "import copy\n",
    "dictionary2 = copy.deepcopy(dictionary)"
   ]
  },
  {
   "cell_type": "markdown",
   "metadata": {},
   "source": [
    "__Задание 2.__ У объекта dictionary2 есть переменная *dfs* — это словарь, ключами которого являются id токена, а элементами — число раз, сколько слово встретилось во всей коллекции. Сохраните в отдельный список ингредиенты, которые встретились в коллекции больше 4000 раз. Вызовите метод словаря *filter_tokens*, подав в качестве первого аргумента полученный список популярных ингредиентов. Вычислите две величины: dict_size_before и dict_size_after — размер словаря до и после фильтрации.\n",
    "\n",
    "Затем, используя новый словарь, создайте новый корпус документов, corpus2, по аналогии с тем, как это сделано в начале ноутбука. Вычислите две величины: corpus_size_before и corpus_size_after — суммарное количество ингредиентов в корпусе (для каждого документа вычислите число различных ингредиентов в нем и просуммируйте по всем документам) до и после фильтрации.\n",
    "\n",
    "Передайте величины dict_size_before, dict_size_after, corpus_size_before, corpus_size_after в функцию save_answers2 и загрузите сгенерированный файл в форму."
   ]
  },
  {
   "cell_type": "code",
   "execution_count": 48,
   "metadata": {
    "collapsed": false
   },
   "outputs": [],
   "source": [
    "idx = []\n",
    "for i in range(len(dictionary2.dfs)):\n",
    "    if dictionary2.dfs[i] > 4000:\n",
    "        idx.append(i)"
   ]
  },
  {
   "cell_type": "code",
   "execution_count": 49,
   "metadata": {
    "collapsed": false
   },
   "outputs": [],
   "source": [
    "dictionary2.filter_tokens(idx)"
   ]
  },
  {
   "cell_type": "code",
   "execution_count": 50,
   "metadata": {
    "collapsed": true
   },
   "outputs": [],
   "source": [
    "corpus2 = [dictionary2.doc2bow(text) for text in texts]"
   ]
  },
  {
   "cell_type": "code",
   "execution_count": 51,
   "metadata": {
    "collapsed": true
   },
   "outputs": [],
   "source": [
    "dict_size_before = len(dictionary)\n",
    "dict_size_after = len(dictionary2)"
   ]
  },
  {
   "cell_type": "code",
   "execution_count": 53,
   "metadata": {
    "collapsed": false
   },
   "outputs": [
    {
     "name": "stdout",
     "output_type": "stream",
     "text": [
      "6714\n",
      "6702\n"
     ]
    }
   ],
   "source": [
    "print dict_size_before\n",
    "print dict_size_after"
   ]
  },
  {
   "cell_type": "code",
   "execution_count": 54,
   "metadata": {
    "collapsed": false
   },
   "outputs": [],
   "source": [
    "corpus_size_before = 0\n",
    "corpus_size_after = 0\n",
    "for i in xrange(len(corpus)):\n",
    "    corpus_size_before += len(corpus[i])\n",
    "for i in xrange(len(corpus2)):\n",
    "    corpus_size_after += len(corpus2[i])"
   ]
  },
  {
   "cell_type": "code",
   "execution_count": 56,
   "metadata": {
    "collapsed": false
   },
   "outputs": [
    {
     "name": "stdout",
     "output_type": "stream",
     "text": [
      "428249\n",
      "343665\n"
     ]
    }
   ],
   "source": [
    "print corpus_size_before\n",
    "print corpus_size_after"
   ]
  },
  {
   "cell_type": "code",
   "execution_count": 55,
   "metadata": {
    "collapsed": true
   },
   "outputs": [],
   "source": [
    "def save_answers2(dict_size_before, dict_size_after, corpus_size_before, corpus_size_after):\n",
    "    with open(\"cooking_LDA_pa_task2.txt\", \"w\") as fout:\n",
    "        fout.write(\" \".join([str(el) for el in [dict_size_before, dict_size_after, corpus_size_before, corpus_size_after]]))"
   ]
  },
  {
   "cell_type": "code",
   "execution_count": null,
   "metadata": {
    "collapsed": true
   },
   "outputs": [],
   "source": [
    "save_answers2(dict_size_before, dict_size_after, corpus_size_before, corpus_size_after)"
   ]
  },
  {
   "cell_type": "markdown",
   "metadata": {},
   "source": [
    "### Сравнение когерентностей\n",
    "__Задание 3.__ Постройте еще одну модель по корпусу corpus2 и словарю dictionary2, остальные параметры оставьте такими же, как при первом построении модели. Сохраните новую модель в другую переменную (не перезаписывайте предыдущую модель). Не забудьте про фиксирование seed!\n",
    "\n",
    "Затем воспользуйтесь методом *top_topics* модели, чтобы вычислить ее когерентность. Передайте в качестве аргумента соответствующий модели корпус. Метод вернет список кортежей (топ токенов, когерентность), отсортированных по убыванию последней. Вычислите среднюю по всем темам когерентность для каждой из двух моделей и передайте в функцию save_answers3. "
   ]
  },
  {
   "cell_type": "code",
   "execution_count": 57,
   "metadata": {
    "collapsed": false
   },
   "outputs": [
    {
     "name": "stdout",
     "output_type": "stream",
     "text": [
      "CPU times: user 5min 45s, sys: 1.82 s, total: 5min 46s\n",
      "Wall time: 5min 47s\n"
     ]
    }
   ],
   "source": [
    "np.random.seed(76543)\n",
    "%time ldamodel2 = models.ldamodel.LdaModel(corpus2,id2word=dictionary2, num_topics=40, passes=5)"
   ]
  },
  {
   "cell_type": "code",
   "execution_count": 58,
   "metadata": {
    "collapsed": true
   },
   "outputs": [],
   "source": [
    "kog1 = ldamodel.top_topics(corpus)\n",
    "kog2 = ldamodel2.top_topics(corpus2)"
   ]
  },
  {
   "cell_type": "code",
   "execution_count": 59,
   "metadata": {
    "collapsed": false
   },
   "outputs": [
    {
     "data": {
      "text/plain": [
       "0.028043709983650477"
      ]
     },
     "execution_count": 59,
     "metadata": {},
     "output_type": "execute_result"
    }
   ],
   "source": [
    "kog1[0][0][10][0]"
   ]
  },
  {
   "cell_type": "code",
   "execution_count": 63,
   "metadata": {
    "collapsed": false
   },
   "outputs": [
    {
     "data": {
      "text/plain": [
       "0.033831763128515789"
      ]
     },
     "execution_count": 63,
     "metadata": {},
     "output_type": "execute_result"
    }
   ],
   "source": [
    "coherence2"
   ]
  },
  {
   "cell_type": "code",
   "execution_count": 61,
   "metadata": {
    "collapsed": false
   },
   "outputs": [],
   "source": [
    "koger1 = []\n",
    "for i in range(len(kog1)):\n",
    "    if i != 0:\n",
    "        koger1.append(summa/len(kog1[i-1][0]))\n",
    "    summa = 0\n",
    "    for j in range(len(kog1[i][0])):\n",
    "        summa += kog1[i][0][j][0]\n",
    "koger1.append(summa/len(kog1[i][0]))\n",
    "coherence = sum(koger1)/len(kog1)"
   ]
  },
  {
   "cell_type": "code",
   "execution_count": 62,
   "metadata": {
    "collapsed": true
   },
   "outputs": [],
   "source": [
    "koger2 = []\n",
    "for i in range(len(kog2)):\n",
    "    if i != 0:\n",
    "        koger2.append(summa/len(kog1[i-1][0]))\n",
    "    summa = 0\n",
    "    for j in range(len(kog2[i][0])):\n",
    "        summa += kog2[i][0][j][0]\n",
    "koger2.append(summa/len(kog2[i][0]))\n",
    "coherence2 = sum(koger2)/len(kog2)"
   ]
  },
  {
   "cell_type": "code",
   "execution_count": null,
   "metadata": {
    "collapsed": true
   },
   "outputs": [],
   "source": [
    "def save_answers3(coherence, coherence2):\n",
    "    with open(\"cooking_LDA_pa_task3.txt\", \"w\") as fout:\n",
    "        fout.write(\" \".join([\"%3f\"%el for el in [coherence, coherence2]]))"
   ]
  },
  {
   "cell_type": "code",
   "execution_count": null,
   "metadata": {
    "collapsed": true
   },
   "outputs": [],
   "source": [
    "save_answers3(coherence, coherence2)"
   ]
  },
  {
   "cell_type": "markdown",
   "metadata": {},
   "source": [
    "Считается, что когерентность хорошо соотносится с человеческими оценками интерпретируемости тем. Поэтому на больших текстовых коллекциях когерентность обычно повышается, если убрать фоновую лексику. Однако в нашем случае этого не произошло. "
   ]
  },
  {
   "cell_type": "markdown",
   "metadata": {},
   "source": [
    "### Изучение влияния гиперпараметра alpha"
   ]
  },
  {
   "cell_type": "markdown",
   "metadata": {},
   "source": [
    "В этом разделе мы будем работать со второй моделью, то есть той, которая построена по сокращенному корпусу. \n",
    "\n",
    "Пока что мы посмотрели только на матрицу темы-слова, теперь давайте посмотрим на матрицу темы-документы. Выведите темы для нулевого (или любого другого) документа из корпуса, воспользовавшись методом *get_document_topics* второй модели:"
   ]
  },
  {
   "cell_type": "code",
   "execution_count": 64,
   "metadata": {
    "collapsed": false
   },
   "outputs": [
    {
     "data": {
      "text/plain": [
       "[(4, 0.12812499999999991),\n",
       " (15, 0.32368464962559057),\n",
       " (22, 0.27665871617377874),\n",
       " (37, 0.15903163420063016)]"
      ]
     },
     "execution_count": 64,
     "metadata": {},
     "output_type": "execute_result"
    }
   ],
   "source": [
    "ldamodel2.get_document_topics(corpus2[0])"
   ]
  },
  {
   "cell_type": "markdown",
   "metadata": {},
   "source": [
    "Также выведите содержимое переменной *.alpha* второй модели:"
   ]
  },
  {
   "cell_type": "code",
   "execution_count": 65,
   "metadata": {
    "collapsed": false
   },
   "outputs": [
    {
     "data": {
      "text/plain": [
       "array([ 0.025,  0.025,  0.025,  0.025,  0.025,  0.025,  0.025,  0.025,\n",
       "        0.025,  0.025,  0.025,  0.025,  0.025,  0.025,  0.025,  0.025,\n",
       "        0.025,  0.025,  0.025,  0.025,  0.025,  0.025,  0.025,  0.025,\n",
       "        0.025,  0.025,  0.025,  0.025,  0.025,  0.025,  0.025,  0.025,\n",
       "        0.025,  0.025,  0.025,  0.025,  0.025,  0.025,  0.025,  0.025])"
      ]
     },
     "execution_count": 65,
     "metadata": {},
     "output_type": "execute_result"
    }
   ],
   "source": [
    "ldamodel2.alpha"
   ]
  },
  {
   "cell_type": "markdown",
   "metadata": {},
   "source": [
    "У вас должно получиться, что документ характеризуется небольшим числом тем. Попробуем поменять гиперпараметр alpha, задающий априорное распределение Дирихле для распределений тем в документах."
   ]
  },
  {
   "cell_type": "markdown",
   "metadata": {},
   "source": [
    "__Задание 4.__ Обучите третью модель: используйте сокращенный корпус (corpus2 и dictionary2) и установите параметр __alpha=1__, passes=5. Не забудьте про фиксацию seed! Выведите темы новой модели для нулевого документа; должно получиться, что распределение над множеством тем практически равномерное. Чтобы убедиться в том, что во второй модели документы описываются гораздо более разреженными распределениями, чем в третьей, посчитайте суммарное количество элементов, __превосходящих 0.01__, в матрицах темы-документы обеих моделей. Другими словами, запросите темы  модели для каждого документа с параметром *minimum_probability=0.01* и просуммируйте число элементов в получаемых массивах. Передайте две суммы (сначала для модели с alpha по умолчанию, затем для модели в alpha=1) в функцию save_answers4."
   ]
  },
  {
   "cell_type": "code",
   "execution_count": 66,
   "metadata": {
    "collapsed": false
   },
   "outputs": [
    {
     "name": "stdout",
     "output_type": "stream",
     "text": [
      "CPU times: user 15min 5s, sys: 1.84 s, total: 15min 7s\n",
      "Wall time: 15min 13s\n"
     ]
    }
   ],
   "source": [
    "np.random.seed(76543)\n",
    "%time ldamodel3 = models.ldamodel.LdaModel(corpus2, num_topics=40, alpha=1, passes=5)"
   ]
  },
  {
   "cell_type": "code",
   "execution_count": 67,
   "metadata": {
    "collapsed": false
   },
   "outputs": [],
   "source": [
    "topics3 = ldamodel3.get_document_topics(corpus2, minimum_probability=0.01)\n",
    "topics2 = ldamodel2.get_document_topics(corpus2, minimum_probability=0.01)"
   ]
  },
  {
   "cell_type": "code",
   "execution_count": 68,
   "metadata": {
    "collapsed": true
   },
   "outputs": [],
   "source": [
    "count_model2, count_model3 = 0, 0\n",
    "for i in range(len(topics2)):\n",
    "    count_model2 += len(topics2[i])\n",
    "for i in range(len(topics3)):\n",
    "    count_model3 += len(topics3[i])"
   ]
  },
  {
   "cell_type": "code",
   "execution_count": 69,
   "metadata": {
    "collapsed": false
   },
   "outputs": [
    {
     "data": {
      "text/plain": [
       "1590960"
      ]
     },
     "execution_count": 69,
     "metadata": {},
     "output_type": "execute_result"
    }
   ],
   "source": [
    "count_model3"
   ]
  },
  {
   "cell_type": "code",
   "execution_count": null,
   "metadata": {
    "collapsed": true
   },
   "outputs": [],
   "source": [
    "def save_answers4(count_model2, count_model3):\n",
    "    with open(\"cooking_LDA_pa_task4.txt\", \"w\") as fout:\n",
    "        fout.write(\" \".join([str(el) for el in [count_model2, count_model3]]))"
   ]
  },
  {
   "cell_type": "code",
   "execution_count": null,
   "metadata": {
    "collapsed": true
   },
   "outputs": [],
   "source": [
    "accuracies = save_answers4(count_model2, count_model3)"
   ]
  },
  {
   "cell_type": "markdown",
   "metadata": {},
   "source": [
    "Таким образом, гиперпараметр __alpha__ влияет на разреженность распределений тем в документах. Аналогично гиперпараметр __eta__ влияет на разреженность распределений слов в темах."
   ]
  },
  {
   "cell_type": "markdown",
   "metadata": {},
   "source": [
    "### LDA как способ понижения размерности\n",
    "Иногда, распределения над темами, найденные с помощью LDA, добавляют в матрицу объекты-признаки как дополнительные, семантические, признаки, и это может улучшить качество решения задачи. Для простоты давайте просто обучим классификатор рецептов на кухни на признаках, полученных из LDA, и измерим точность (accuracy).\n",
    "\n",
    "__Задание 5.__ Используйте модель, построенную по сокращенной выборке с alpha по умолчанию (вторую модель). Составьте матрицу $\\Theta = p(t|d)$ вероятностей тем в документах; вы можете использовать тот же метод get_document_topics, а также вектор правильных ответов y (в том же порядке, в котором рецепты идут в переменной recipes). Создайте объект RandomForestClassifier со 100 деревьями, с помощью функции cross_val_score вычислите среднюю accuracy по трем фолдам (перемешивать данные не нужно) и передайте в функцию save_answers5."
   ]
  },
  {
   "cell_type": "code",
   "execution_count": 70,
   "metadata": {
    "collapsed": false
   },
   "outputs": [
    {
     "name": "stderr",
     "output_type": "stream",
     "text": [
      "/anaconda/ipython2/anaconda/lib/python2.7/site-packages/sklearn/cross_validation.py:41: DeprecationWarning: This module was deprecated in version 0.18 in favor of the model_selection module into which all the refactored classes and functions are moved. Also note that the interface of the new CV iterators are different from that of this module. This module will be removed in 0.20.\n",
      "  \"This module will be removed in 0.20.\", DeprecationWarning)\n"
     ]
    }
   ],
   "source": [
    "from sklearn.ensemble import RandomForestClassifier\n",
    "from sklearn.cross_validation import cross_val_score\n",
    "import pandas as pd"
   ]
  },
  {
   "cell_type": "code",
   "execution_count": 71,
   "metadata": {
    "collapsed": false
   },
   "outputs": [],
   "source": [
    "results = {}\n",
    "num_doc = 0\n",
    "for doc in corpus2:\n",
    "    results[num_doc] = {}\n",
    "    topics = ldamodel2.get_document_topics(doc)\n",
    "    for item in topics:\n",
    "        results[num_doc][item[0]] = item[1]\n",
    "    num_doc += 1"
   ]
  },
  {
   "cell_type": "code",
   "execution_count": 72,
   "metadata": {
    "collapsed": false
   },
   "outputs": [],
   "source": [
    "X = pd.DataFrame.from_dict(results).fillna(0).T\n",
    "y = np.array([recipe['cuisine'] for recipe in recipes])"
   ]
  },
  {
   "cell_type": "code",
   "execution_count": 73,
   "metadata": {
    "collapsed": true
   },
   "outputs": [],
   "source": [
    "estimator = RandomForestClassifier(n_estimators=100)\n",
    "scores = cross_val_score(estimator, X, y)"
   ]
  },
  {
   "cell_type": "code",
   "execution_count": 74,
   "metadata": {
    "collapsed": false
   },
   "outputs": [
    {
     "data": {
      "text/plain": [
       "array([ 0.5594511 ,  0.55879026,  0.56927256])"
      ]
     },
     "execution_count": 74,
     "metadata": {},
     "output_type": "execute_result"
    }
   ],
   "source": [
    "scores"
   ]
  },
  {
   "cell_type": "code",
   "execution_count": null,
   "metadata": {
    "collapsed": true
   },
   "outputs": [],
   "source": [
    "def save_answers5(accuracy):\n",
    "     with open(\"cooking_LDA_pa_task5.txt\", \"w\") as fout:\n",
    "        fout.write(str(accuracy))"
   ]
  },
  {
   "cell_type": "markdown",
   "metadata": {},
   "source": [
    "Для такого большого количества классов это неплохая точность. Вы можете попроовать обучать RandomForest на исходной матрице частот слов, имеющей значительно большую размерность, и увидеть, что accuracy увеличивается на 10–15%. Таким образом, LDA собрал не всю, но достаточно большую часть информации из выборки, в матрице низкого ранга."
   ]
  },
  {
   "cell_type": "markdown",
   "metadata": {},
   "source": [
    "### LDA — вероятностная модель\n",
    "Матричное разложение, использующееся в LDA, интерпретируется как следующий процесс генерации документов.\n",
    "\n",
    "Для документа $d$ длины $n_d$:\n",
    "1. Из априорного распределения Дирихле с параметром alpha сгенерировать распределение над множеством тем: $\\theta_d \\sim Dirichlet(\\alpha)$\n",
    "1. Для каждого слова $w = 1, \\dots, n_d$:\n",
    "    1. Сгенерировать тему из дискретного распределения $t \\sim \\theta_{d}$\n",
    "    1. Сгенерировать слово из дискретного распределения $w \\sim \\phi_{t}$.\n",
    "    \n",
    "Подробнее об этом в [Википедии](https://en.wikipedia.org/wiki/Latent_Dirichlet_allocation).\n",
    "\n",
    "В контексте нашей задачи получается, что, используя данный генеративный процесс, можно создавать новые рецепты. Вы можете передать в функцию модель и число ингредиентов и сгенерировать рецепт :)"
   ]
  },
  {
   "cell_type": "code",
   "execution_count": 75,
   "metadata": {
    "collapsed": false
   },
   "outputs": [],
   "source": [
    "def generate_recipe(model, num_ingredients):\n",
    "    theta = np.random.dirichlet(model.alpha)\n",
    "    for i in range(num_ingredients):\n",
    "        t = np.random.choice(np.arange(model.num_topics), p=theta)\n",
    "        topic = model.show_topic(t, topn=model.num_terms)\n",
    "        topic_distr = [x[1] for x in topic]\n",
    "        terms = [x[0] for x in topic]\n",
    "        w = np.random.choice(terms, p=topic_distr)\n",
    "        print w"
   ]
  },
  {
   "cell_type": "code",
   "execution_count": 76,
   "metadata": {
    "collapsed": false
   },
   "outputs": [
    {
     "name": "stdout",
     "output_type": "stream",
     "text": [
      "blueberries\n",
      "plums\n",
      "Accent Seasoning\n",
      "rigatoni\n",
      "whipping cream\n",
      "orange\n",
      "corn oil\n"
     ]
    }
   ],
   "source": [
    "num_ingredients = 7\n",
    "generate_recipe(ldamodel2, num_ingredients)"
   ]
  },
  {
   "cell_type": "markdown",
   "metadata": {},
   "source": [
    "### Интерпретация построенной модели\n",
    "Вы можете рассмотреть топы ингредиентов каждой темы. Большиснтво тем сами по себе похожи на рецепты; в некоторых собираются продукты одного вида, например, свежие фрукты или разные виды сыра.\n",
    "\n",
    "Попробуем эмпирически соотнести наши темы с национальными кухнями (cuisine). Построим матрицу $A$ размера темы $x$ кухни, ее элементы $a_{tc}$ — суммы $p(t|d)$ по всем документам $d$, которые отнесены к кухне $c$. Нормируем матрицу на частоты рецептов по разным кухням, чтобы избежать дисбаланса между кухнями. Следующая функция получает на вход объект модели, объект корпуса и исходные данные и возвращает нормированную матрицу $A$. Ее удобно визуализировать с помощью seaborn."
   ]
  },
  {
   "cell_type": "code",
   "execution_count": 77,
   "metadata": {
    "collapsed": true
   },
   "outputs": [],
   "source": [
    "import pandas\n",
    "import seaborn\n",
    "from matplotlib import pyplot as plt\n",
    "%matplotlib inline"
   ]
  },
  {
   "cell_type": "code",
   "execution_count": 78,
   "metadata": {
    "collapsed": true
   },
   "outputs": [],
   "source": [
    "def compute_topic_cuisine_matrix(model, corpus, recipes):\n",
    "    # составляем вектор целевых признаков\n",
    "    targets = list(set([recipe[\"cuisine\"] for recipe in recipes]))\n",
    "    # составляем матрицу\n",
    "    tc_matrix = pandas.DataFrame(data=np.zeros((model.num_topics, len(targets))), columns=targets)\n",
    "    for recipe, bow in zip(recipes, corpus):\n",
    "        recipe_topic = model.get_document_topics(bow)\n",
    "        for t, prob in recipe_topic:\n",
    "            tc_matrix[recipe[\"cuisine\"]][t] += prob\n",
    "    # нормируем матрицу\n",
    "    target_sums = pandas.DataFrame(data=np.zeros((1, len(targets))), columns=targets)\n",
    "    for recipe in recipes:\n",
    "        target_sums[recipe[\"cuisine\"]] += 1\n",
    "    return pandas.DataFrame(tc_matrix.values/target_sums.values, columns=tc_matrix.columns)"
   ]
  },
  {
   "cell_type": "code",
   "execution_count": 79,
   "metadata": {
    "collapsed": true
   },
   "outputs": [],
   "source": [
    "def plot_matrix(tc_matrix):\n",
    "    plt.figure(figsize=(10, 10))\n",
    "    seaborn.heatmap(tc_matrix, square=True)"
   ]
  },
  {
   "cell_type": "code",
   "execution_count": 80,
   "metadata": {
    "collapsed": false
   },
   "outputs": [
    {
     "data": {
      "image/png": "[encoded data removed]",
      "text/plain": [
       "<matplotlib.figure.Figure at 0x122700090>"
      ]
     },
     "metadata": {},
     "output_type": "display_data"
    }
   ],
   "source": [
    "# Визуализируйте матрицу\n",
    "plot_matrix(compute_topic_cuisine_matrix(ldamodel, corpus, recipes))"
   ]
  },
  {
   "cell_type": "markdown",
   "metadata": {},
   "source": [
    "Чем темнее квадрат в матрице, тем больше связь этой темы с данной кухней. Мы видим, что у нас есть темы, которые связаны с несколькими кухнями. Такие темы показывают набор ингредиентов, которые популярны в кухнях нескольких народов, то есть указывают на схожесть кухонь этих народов. Некоторые темы распределены по всем кухням равномерно, они показывают наборы продуктов, которые часто используются в кулинарии всех стран. "
   ]
  },
  {
   "cell_type": "markdown",
   "metadata": {},
   "source": [
    "Жаль, что в датасете нет названий рецептов, иначе темы было бы проще интерпретировать..."
   ]
  },
  {
   "cell_type": "markdown",
   "metadata": {},
   "source": [
    "### Заключение\n",
    "В этом задании вы построили несколько моделей LDA, посмотрели, на что влияют гиперпараметры модели и как можно использовать построенную модель. "
   ]
  }
 ],
 "metadata": {
  "anaconda-cloud": {},
  "kernelspec": {
   "display_name": "Python [conda root]",
   "language": "python",
   "name": "conda-root-py"
  },
  "language_info": {
   "codemirror_mode": {
    "name": "ipython",
    "version": 2
   },
   "file_extension": ".py",
   "mimetype": "text/x-python",
   "name": "python",
   "nbconvert_exporter": "python",
   "pygments_lexer": "ipython2",
   "version": "2.7.13"
  }
 },
 "nbformat": 4,
 "nbformat_minor": 0
}
