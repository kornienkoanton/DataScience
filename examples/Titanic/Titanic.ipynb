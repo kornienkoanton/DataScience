{
 "cells": [
  {
   "cell_type": "code",
   "execution_count": 1,
   "metadata": {
    "collapsed": false
   },
   "outputs": [
    {
     "name": "stderr",
     "output_type": "stream",
     "text": [
      "/anaconda/ipython2/anaconda/lib/python2.7/site-packages/sklearn/cross_validation.py:44: DeprecationWarning: This module was deprecated in version 0.18 in favor of the model_selection module into which all the refactored classes and functions are moved. Also note that the interface of the new CV iterators are different from that of this module. This module will be removed in 0.20.\n",
      "  \"This module will be removed in 0.20.\", DeprecationWarning)\n",
      "/anaconda/ipython2/anaconda/lib/python2.7/site-packages/sklearn/grid_search.py:43: DeprecationWarning: This module was deprecated in version 0.18 in favor of the model_selection module into which all the refactored classes and functions are moved. This module will be removed in 0.20.\n",
      "  DeprecationWarning)\n"
     ]
    }
   ],
   "source": [
    "import pandas as pd\n",
    "import numpy as np\n",
    "import matplotlib.pyplot as plt\n",
    "import xgboost as xgb\n",
    "import re\n",
    "import seaborn as sns\n",
    "from sklearn.linear_model import LinearRegression\n",
    "from sklearn.linear_model import LogisticRegression\n",
    "from sklearn.linear_model import SGDClassifier\n",
    "from sklearn.ensemble import RandomForestClassifier\n",
    "from sklearn.grid_search import GridSearchCV\n",
    "from sklearn.neighbors import KNeighborsClassifier\n",
    "from sklearn.naive_bayes import GaussianNB\n",
    "from sklearn.svm import SVC\n",
    "from sklearn.feature_selection import SelectKBest, f_classif\n",
    "from sklearn.cross_validation import StratifiedKFold\n",
    "from sklearn.cross_validation import KFold\n",
    "from sklearn.cross_validation import cross_val_score\n",
    "from sklearn.preprocessing import StandardScaler\n",
    "from sklearn import metrics\n",
    "\n",
    "pd.set_option('display.width', 256)"
   ]
  },
  {
   "cell_type": "code",
   "execution_count": 4,
   "metadata": {
    "collapsed": false
   },
   "outputs": [],
   "source": [
    "train_data = pd.read_csv(\"train.csv\")\n",
    "test_data = pd.read_csv(\"test.csv\")"
   ]
  },
  {
   "cell_type": "code",
   "execution_count": 8,
   "metadata": {
    "collapsed": true
   },
   "outputs": [],
   "source": [
    "all_data = pd.concat([train_data, test_data])"
   ]
  },
  {
   "cell_type": "code",
   "execution_count": 9,
   "metadata": {
    "collapsed": false
   },
   "outputs": [
    {
     "data": {
      "text/plain": [
       "((891, 12), (418, 11), (1309, 12))"
      ]
     },
     "execution_count": 9,
     "metadata": {},
     "output_type": "execute_result"
    }
   ],
   "source": [
    "train_data.shape,test_data.shape,all_data.shape"
   ]
  },
  {
   "cell_type": "code",
   "execution_count": 21,
   "metadata": {
    "collapsed": false
   },
   "outputs": [
    {
     "data": {
      "text/html": [
       "<div>\n",
       "<table border=\"1\" class=\"dataframe\">\n",
       "  <thead>\n",
       "    <tr style=\"text-align: right;\">\n",
       "      <th></th>\n",
       "      <th>PassengerId</th>\n",
       "      <th>Survived</th>\n",
       "      <th>Pclass</th>\n",
       "      <th>Name</th>\n",
       "      <th>Sex</th>\n",
       "      <th>Age</th>\n",
       "      <th>SibSp</th>\n",
       "      <th>Parch</th>\n",
       "      <th>Ticket</th>\n",
       "      <th>Fare</th>\n",
       "      <th>Cabin</th>\n",
       "      <th>Embarked</th>\n",
       "    </tr>\n",
       "  </thead>\n",
       "  <tbody>\n",
       "    <tr>\n",
       "      <th>0</th>\n",
       "      <td>1</td>\n",
       "      <td>0</td>\n",
       "      <td>3</td>\n",
       "      <td>Braund, Mr. Owen Harris</td>\n",
       "      <td>male</td>\n",
       "      <td>22.0</td>\n",
       "      <td>1</td>\n",
       "      <td>0</td>\n",
       "      <td>A/5 21171</td>\n",
       "      <td>7.2500</td>\n",
       "      <td>NaN</td>\n",
       "      <td>S</td>\n",
       "    </tr>\n",
       "    <tr>\n",
       "      <th>4</th>\n",
       "      <td>5</td>\n",
       "      <td>0</td>\n",
       "      <td>3</td>\n",
       "      <td>Allen, Mr. William Henry</td>\n",
       "      <td>male</td>\n",
       "      <td>35.0</td>\n",
       "      <td>0</td>\n",
       "      <td>0</td>\n",
       "      <td>373450</td>\n",
       "      <td>8.0500</td>\n",
       "      <td>NaN</td>\n",
       "      <td>S</td>\n",
       "    </tr>\n",
       "    <tr>\n",
       "      <th>5</th>\n",
       "      <td>6</td>\n",
       "      <td>0</td>\n",
       "      <td>3</td>\n",
       "      <td>Moran, Mr. James</td>\n",
       "      <td>male</td>\n",
       "      <td>NaN</td>\n",
       "      <td>0</td>\n",
       "      <td>0</td>\n",
       "      <td>330877</td>\n",
       "      <td>8.4583</td>\n",
       "      <td>NaN</td>\n",
       "      <td>Q</td>\n",
       "    </tr>\n",
       "    <tr>\n",
       "      <th>6</th>\n",
       "      <td>7</td>\n",
       "      <td>0</td>\n",
       "      <td>1</td>\n",
       "      <td>McCarthy, Mr. Timothy J</td>\n",
       "      <td>male</td>\n",
       "      <td>54.0</td>\n",
       "      <td>0</td>\n",
       "      <td>0</td>\n",
       "      <td>17463</td>\n",
       "      <td>51.8625</td>\n",
       "      <td>E46</td>\n",
       "      <td>S</td>\n",
       "    </tr>\n",
       "    <tr>\n",
       "      <th>7</th>\n",
       "      <td>8</td>\n",
       "      <td>0</td>\n",
       "      <td>3</td>\n",
       "      <td>Palsson, Master. Gosta Leonard</td>\n",
       "      <td>male</td>\n",
       "      <td>2.0</td>\n",
       "      <td>3</td>\n",
       "      <td>1</td>\n",
       "      <td>349909</td>\n",
       "      <td>21.0750</td>\n",
       "      <td>NaN</td>\n",
       "      <td>S</td>\n",
       "    </tr>\n",
       "    <tr>\n",
       "      <th>12</th>\n",
       "      <td>13</td>\n",
       "      <td>0</td>\n",
       "      <td>3</td>\n",
       "      <td>Saundercock, Mr. William Henry</td>\n",
       "      <td>male</td>\n",
       "      <td>20.0</td>\n",
       "      <td>0</td>\n",
       "      <td>0</td>\n",
       "      <td>A/5. 2151</td>\n",
       "      <td>8.0500</td>\n",
       "      <td>NaN</td>\n",
       "      <td>S</td>\n",
       "    </tr>\n",
       "    <tr>\n",
       "      <th>13</th>\n",
       "      <td>14</td>\n",
       "      <td>0</td>\n",
       "      <td>3</td>\n",
       "      <td>Andersson, Mr. Anders Johan</td>\n",
       "      <td>male</td>\n",
       "      <td>39.0</td>\n",
       "      <td>1</td>\n",
       "      <td>5</td>\n",
       "      <td>347082</td>\n",
       "      <td>31.2750</td>\n",
       "      <td>NaN</td>\n",
       "      <td>S</td>\n",
       "    </tr>\n",
       "    <tr>\n",
       "      <th>16</th>\n",
       "      <td>17</td>\n",
       "      <td>0</td>\n",
       "      <td>3</td>\n",
       "      <td>Rice, Master. Eugene</td>\n",
       "      <td>male</td>\n",
       "      <td>2.0</td>\n",
       "      <td>4</td>\n",
       "      <td>1</td>\n",
       "      <td>382652</td>\n",
       "      <td>29.1250</td>\n",
       "      <td>NaN</td>\n",
       "      <td>Q</td>\n",
       "    </tr>\n",
       "    <tr>\n",
       "      <th>17</th>\n",
       "      <td>18</td>\n",
       "      <td>1</td>\n",
       "      <td>2</td>\n",
       "      <td>Williams, Mr. Charles Eugene</td>\n",
       "      <td>male</td>\n",
       "      <td>NaN</td>\n",
       "      <td>0</td>\n",
       "      <td>0</td>\n",
       "      <td>244373</td>\n",
       "      <td>13.0000</td>\n",
       "      <td>NaN</td>\n",
       "      <td>S</td>\n",
       "    </tr>\n",
       "    <tr>\n",
       "      <th>20</th>\n",
       "      <td>21</td>\n",
       "      <td>0</td>\n",
       "      <td>2</td>\n",
       "      <td>Fynney, Mr. Joseph J</td>\n",
       "      <td>male</td>\n",
       "      <td>35.0</td>\n",
       "      <td>0</td>\n",
       "      <td>0</td>\n",
       "      <td>239865</td>\n",
       "      <td>26.0000</td>\n",
       "      <td>NaN</td>\n",
       "      <td>S</td>\n",
       "    </tr>\n",
       "  </tbody>\n",
       "</table>\n",
       "</div>"
      ],
      "text/plain": [
       "    PassengerId  Survived  Pclass                            Name   Sex   Age  SibSp  Parch     Ticket     Fare Cabin Embarked\n",
       "0             1         0       3         Braund, Mr. Owen Harris  male  22.0      1      0  A/5 21171   7.2500   NaN        S\n",
       "4             5         0       3        Allen, Mr. William Henry  male  35.0      0      0     373450   8.0500   NaN        S\n",
       "5             6         0       3                Moran, Mr. James  male   NaN      0      0     330877   8.4583   NaN        Q\n",
       "6             7         0       1         McCarthy, Mr. Timothy J  male  54.0      0      0      17463  51.8625   E46        S\n",
       "7             8         0       3  Palsson, Master. Gosta Leonard  male   2.0      3      1     349909  21.0750   NaN        S\n",
       "12           13         0       3  Saundercock, Mr. William Henry  male  20.0      0      0  A/5. 2151   8.0500   NaN        S\n",
       "13           14         0       3     Andersson, Mr. Anders Johan  male  39.0      1      5     347082  31.2750   NaN        S\n",
       "16           17         0       3            Rice, Master. Eugene  male   2.0      4      1     382652  29.1250   NaN        Q\n",
       "17           18         1       2    Williams, Mr. Charles Eugene  male   NaN      0      0     244373  13.0000   NaN        S\n",
       "20           21         0       2            Fynney, Mr. Joseph J  male  35.0      0      0     239865  26.0000   NaN        S"
      ]
     },
     "execution_count": 21,
     "metadata": {},
     "output_type": "execute_result"
    }
   ],
   "source": [
    "train_data[(train_data.Sex =='male')&(train_data.Ticket!=None)].head(10)"
   ]
  },
  {
   "cell_type": "code",
   "execution_count": 22,
   "metadata": {
    "collapsed": false
   },
   "outputs": [
    {
     "name": "stdout",
     "output_type": "stream",
     "text": [
      "===== survived by class and sex\n",
      "Pclass  Sex     Survived\n",
      "1       female  1           0.968085\n",
      "                0           0.031915\n",
      "        male    0           0.631148\n",
      "                1           0.368852\n",
      "2       female  1           0.921053\n",
      "                0           0.078947\n",
      "        male    0           0.842593\n",
      "                1           0.157407\n",
      "3       female  0           0.500000\n",
      "                1           0.500000\n",
      "        male    0           0.864553\n",
      "                1           0.135447\n",
      "Name: Survived, dtype: float64\n"
     ]
    }
   ],
   "source": [
    "print(\"===== survived by class and sex\")\n",
    "print(train_data.groupby([\"Pclass\", \"Sex\"])[\"Survived\"].value_counts(normalize=True))"
   ]
  },
  {
   "cell_type": "code",
   "execution_count": 25,
   "metadata": {
    "collapsed": false
   },
   "outputs": [
    {
     "data": {
      "text/html": [
       "<div>\n",
       "<table border=\"1\" class=\"dataframe\">\n",
       "  <thead>\n",
       "    <tr style=\"text-align: right;\">\n",
       "      <th></th>\n",
       "      <th>PassengerId</th>\n",
       "      <th>Survived</th>\n",
       "      <th>Pclass</th>\n",
       "      <th>Age</th>\n",
       "      <th>SibSp</th>\n",
       "      <th>Parch</th>\n",
       "      <th>Fare</th>\n",
       "    </tr>\n",
       "  </thead>\n",
       "  <tbody>\n",
       "    <tr>\n",
       "      <th>count</th>\n",
       "      <td>891.000000</td>\n",
       "      <td>891.000000</td>\n",
       "      <td>891.000000</td>\n",
       "      <td>714.000000</td>\n",
       "      <td>891.000000</td>\n",
       "      <td>891.000000</td>\n",
       "      <td>891.000000</td>\n",
       "    </tr>\n",
       "    <tr>\n",
       "      <th>mean</th>\n",
       "      <td>446.000000</td>\n",
       "      <td>0.383838</td>\n",
       "      <td>2.308642</td>\n",
       "      <td>29.699118</td>\n",
       "      <td>0.523008</td>\n",
       "      <td>0.381594</td>\n",
       "      <td>32.204208</td>\n",
       "    </tr>\n",
       "    <tr>\n",
       "      <th>std</th>\n",
       "      <td>257.353842</td>\n",
       "      <td>0.486592</td>\n",
       "      <td>0.836071</td>\n",
       "      <td>14.526497</td>\n",
       "      <td>1.102743</td>\n",
       "      <td>0.806057</td>\n",
       "      <td>49.693429</td>\n",
       "    </tr>\n",
       "    <tr>\n",
       "      <th>min</th>\n",
       "      <td>1.000000</td>\n",
       "      <td>0.000000</td>\n",
       "      <td>1.000000</td>\n",
       "      <td>0.420000</td>\n",
       "      <td>0.000000</td>\n",
       "      <td>0.000000</td>\n",
       "      <td>0.000000</td>\n",
       "    </tr>\n",
       "    <tr>\n",
       "      <th>25%</th>\n",
       "      <td>223.500000</td>\n",
       "      <td>0.000000</td>\n",
       "      <td>2.000000</td>\n",
       "      <td>20.125000</td>\n",
       "      <td>0.000000</td>\n",
       "      <td>0.000000</td>\n",
       "      <td>7.910400</td>\n",
       "    </tr>\n",
       "    <tr>\n",
       "      <th>50%</th>\n",
       "      <td>446.000000</td>\n",
       "      <td>0.000000</td>\n",
       "      <td>3.000000</td>\n",
       "      <td>28.000000</td>\n",
       "      <td>0.000000</td>\n",
       "      <td>0.000000</td>\n",
       "      <td>14.454200</td>\n",
       "    </tr>\n",
       "    <tr>\n",
       "      <th>75%</th>\n",
       "      <td>668.500000</td>\n",
       "      <td>1.000000</td>\n",
       "      <td>3.000000</td>\n",
       "      <td>38.000000</td>\n",
       "      <td>1.000000</td>\n",
       "      <td>0.000000</td>\n",
       "      <td>31.000000</td>\n",
       "    </tr>\n",
       "    <tr>\n",
       "      <th>max</th>\n",
       "      <td>891.000000</td>\n",
       "      <td>1.000000</td>\n",
       "      <td>3.000000</td>\n",
       "      <td>80.000000</td>\n",
       "      <td>8.000000</td>\n",
       "      <td>6.000000</td>\n",
       "      <td>512.329200</td>\n",
       "    </tr>\n",
       "  </tbody>\n",
       "</table>\n",
       "</div>"
      ],
      "text/plain": [
       "       PassengerId    Survived      Pclass         Age       SibSp       Parch        Fare\n",
       "count   891.000000  891.000000  891.000000  714.000000  891.000000  891.000000  891.000000\n",
       "mean    446.000000    0.383838    2.308642   29.699118    0.523008    0.381594   32.204208\n",
       "std     257.353842    0.486592    0.836071   14.526497    1.102743    0.806057   49.693429\n",
       "min       1.000000    0.000000    1.000000    0.420000    0.000000    0.000000    0.000000\n",
       "25%     223.500000    0.000000    2.000000   20.125000    0.000000    0.000000    7.910400\n",
       "50%     446.000000    0.000000    3.000000   28.000000    0.000000    0.000000   14.454200\n",
       "75%     668.500000    1.000000    3.000000   38.000000    1.000000    0.000000   31.000000\n",
       "max     891.000000    1.000000    3.000000   80.000000    8.000000    6.000000  512.329200"
      ]
     },
     "execution_count": 25,
     "metadata": {},
     "output_type": "execute_result"
    }
   ],
   "source": [
    "train_data.describe()"
   ]
  },
  {
   "cell_type": "code",
   "execution_count": 23,
   "metadata": {
    "collapsed": false
   },
   "outputs": [
    {
     "name": "stdout",
     "output_type": "stream",
     "text": [
      "===== train: males\n",
      "              Age        Fare      Pclass       SibSp       Parch\n",
      "count  453.000000  577.000000  577.000000  577.000000  577.000000\n",
      "mean    30.726645   25.523893    2.389948    0.429809    0.235702\n",
      "std     14.678201   43.138263    0.813580    1.061811    0.612294\n",
      "min      0.420000    0.000000    1.000000    0.000000    0.000000\n",
      "25%     21.000000    7.895800    2.000000    0.000000    0.000000\n",
      "50%     29.000000   10.500000    3.000000    0.000000    0.000000\n",
      "75%     39.000000   26.550000    3.000000    0.000000    0.000000\n",
      "max     80.000000  512.329200    3.000000    8.000000    5.000000\n",
      "===== test: males\n",
      "              Age        Fare      Pclass       SibSp       Parch\n",
      "count  205.000000  265.000000  266.000000  266.000000  266.000000\n",
      "mean    30.272732   27.527877    2.334586    0.379699    0.274436\n",
      "std     13.389528   41.079423    0.808497    0.843735    0.883745\n",
      "min      0.330000    0.000000    1.000000    0.000000    0.000000\n",
      "25%     22.000000    7.854200    2.000000    0.000000    0.000000\n",
      "50%     27.000000   13.000000    3.000000    0.000000    0.000000\n",
      "75%     40.000000   26.550000    3.000000    1.000000    0.000000\n",
      "max     67.000000  262.375000    3.000000    8.000000    9.000000\n",
      "===== train: females\n",
      "              Age        Fare      Pclass       SibSp       Parch\n",
      "count  261.000000  314.000000  314.000000  314.000000  314.000000\n",
      "mean    27.915709   44.479818    2.159236    0.694268    0.649682\n",
      "std     14.110146   57.997698    0.857290    1.156520    1.022846\n",
      "min      0.750000    6.750000    1.000000    0.000000    0.000000\n",
      "25%     18.000000   12.071875    1.000000    0.000000    0.000000\n",
      "50%     27.000000   23.000000    2.000000    0.000000    0.000000\n",
      "75%     37.000000   55.000000    3.000000    1.000000    1.000000\n",
      "max     63.000000  512.329200    3.000000    8.000000    6.000000\n",
      "===== test: females\n",
      "              Age        Fare      Pclass       SibSp       Parch\n",
      "count  127.000000  152.000000  152.000000  152.000000  152.000000\n",
      "mean    30.272362   49.747699    2.144737    0.565789    0.598684\n",
      "std     15.428613   73.108716    0.887051    0.974313    1.105434\n",
      "min      0.170000    6.950000    1.000000    0.000000    0.000000\n",
      "25%     20.500000    8.626050    1.000000    0.000000    0.000000\n",
      "50%     27.000000   21.512500    2.000000    0.000000    0.000000\n",
      "75%     38.500000   55.441700    3.000000    1.000000    1.000000\n",
      "max     76.000000  512.329200    3.000000    8.000000    9.000000\n"
     ]
    }
   ],
   "source": [
    "describe_fields = [\"Age\", \"Fare\", \"Pclass\", \"SibSp\", \"Parch\"]\n",
    "\n",
    "print(\"===== train: males\")\n",
    "print(train_data[train_data[\"Sex\"] == \"male\"][describe_fields].describe())\n",
    "\n",
    "print(\"===== test: males\")\n",
    "print(test_data[test_data[\"Sex\"] == \"male\"][describe_fields].describe())\n",
    "\n",
    "print(\"===== train: females\")\n",
    "print(train_data[train_data[\"Sex\"] == \"female\"][describe_fields].describe())\n",
    "\n",
    "print(\"===== test: females\")\n",
    "print(test_data[test_data[\"Sex\"] == \"female\"][describe_fields].describe())"
   ]
  },
  {
   "cell_type": "code",
   "execution_count": 26,
   "metadata": {
    "collapsed": true
   },
   "outputs": [],
   "source": [
    "class DataDigest:\n",
    "\n",
    "    def __init__(self):\n",
    "        self.ages = None\n",
    "        self.fares = None\n",
    "        self.titles = None\n",
    "        self.cabins = None\n",
    "        self.families = None\n",
    "        self.tickets = None\n",
    "\n",
    "def get_title(name):\n",
    "    if pd.isnull(name):\n",
    "        return \"Null\"\n",
    "\n",
    "    title_search = re.search(' ([A-Za-z]+)\\.', name)\n",
    "    if title_search:\n",
    "        return title_search.group(1).lower()\n",
    "    else:\n",
    "        return \"None\"\n",
    "\n",
    "\n",
    "def get_family(row):\n",
    "    last_name = row[\"Name\"].split(\",\")[0]\n",
    "    if last_name:\n",
    "        family_size = 1 + row[\"Parch\"] + row[\"SibSp\"]\n",
    "        if family_size > 3:\n",
    "            return \"{0}_{1}\".format(last_name.lower(), family_size)\n",
    "        else:\n",
    "            return \"nofamily\"\n",
    "    else:\n",
    "        return \"unknown\"\n",
    "\n",
    "\n",
    "data_digest = DataDigest()\n",
    "data_digest.ages = all_data.groupby(\"Sex\")[\"Age\"].median()\n",
    "data_digest.fares = all_data.groupby(\"Pclass\")[\"Fare\"].median()\n",
    "data_digest.titles = pd.Index(test_data[\"Name\"].apply(get_title).unique())\n",
    "data_digest.families = pd.Index(test_data.apply(get_family, axis=1).unique())\n",
    "data_digest.cabins = pd.Index(test_data[\"Cabin\"].fillna(\"unknown\").unique())\n",
    "data_digest.tickets = pd.Index(test_data[\"Ticket\"].fillna(\"unknown\").unique())"
   ]
  },
  {
   "cell_type": "code",
   "execution_count": 33,
   "metadata": {
    "collapsed": true
   },
   "outputs": [],
   "source": [
    "def get_index(item, index):\n",
    "    if pd.isnull(item):\n",
    "        return -1\n",
    "\n",
    "    try:\n",
    "        return index.get_loc(item)\n",
    "    except KeyError:\n",
    "        return -1\n",
    "\n",
    "\n",
    "def munge_data(data, digest):\n",
    "    # Age - замена пропусков на медиану в зависимости от пола\n",
    "    data[\"AgeF\"] = data.apply(lambda r: digest.ages[r[\"Sex\"]] if pd.isnull(r[\"Age\"]) else r[\"Age\"], axis=1)\n",
    "\n",
    "    # Fare - замена пропусков на медиану в зависимости от класса\n",
    "    data[\"FareF\"] = data.apply(lambda r: digest.fares[r[\"Pclass\"]] if pd.isnull(r[\"Fare\"]) else r[\"Fare\"], axis=1)\n",
    "\n",
    "    # Gender - замена\n",
    "    genders = {\"male\": 1, \"female\": 0}\n",
    "    data[\"SexF\"] = data[\"Sex\"].apply(lambda s: genders.get(s))\n",
    "\n",
    "    # Gender - расширение\n",
    "    gender_dummies = pd.get_dummies(data[\"Sex\"], prefix=\"SexD\", dummy_na=False)\n",
    "    data = pd.concat([data, gender_dummies], axis=1)\n",
    "\n",
    "    # Embarkment - замена\n",
    "    embarkments = {\"U\": 0, \"S\": 1, \"C\": 2, \"Q\": 3}\n",
    "    data[\"EmbarkedF\"] = data[\"Embarked\"].fillna(\"U\").apply(lambda e: embarkments.get(e))\n",
    "\n",
    "    # Embarkment - расширение\n",
    "    embarkment_dummies = pd.get_dummies(data[\"Embarked\"], prefix=\"EmbarkedD\", dummy_na=False)\n",
    "    data = pd.concat([data, embarkment_dummies], axis=1)\n",
    "\n",
    "    # Количество родственников на борту\n",
    "    data[\"RelativesF\"] = data[\"Parch\"] + data[\"SibSp\"]\n",
    "\n",
    "    # Человек-одиночка?\n",
    "    data[\"SingleF\"] = data[\"RelativesF\"].apply(lambda r: 1 if r == 0 else 0)\n",
    "\n",
    "    # Deck - замена\n",
    "    decks = {\"U\": 0, \"A\": 1, \"B\": 2, \"C\": 3, \"D\": 4, \"E\": 5, \"F\": 6, \"G\": 7, \"T\": 8}\n",
    "    data[\"DeckF\"] = data[\"Cabin\"].fillna(\"U\").apply(lambda c: decks.get(c[0], -1))\n",
    "\n",
    "    # Deck - расширение\n",
    "    deck_dummies = pd.get_dummies(data[\"Cabin\"].fillna(\"U\").apply(lambda c: c[0]), prefix=\"DeckD\", dummy_na=False)\n",
    "    data = pd.concat([data, deck_dummies], axis=1)\n",
    "\n",
    "    # Titles - расширение\n",
    "    title_dummies = pd.get_dummies(data[\"Name\"].apply(lambda n: get_title(n)), prefix=\"TitleD\", dummy_na=False)\n",
    "    data = pd.concat([data, title_dummies], axis=1)\n",
    "\n",
    "    # амена текстов на индекс из соответствующего справочника или -1 если значения в справочнике нет (расширять не будем)\n",
    "    data[\"CabinF\"] = data[\"Cabin\"].fillna(\"unknown\").apply(lambda c: get_index(c, digest.cabins))\n",
    "\n",
    "    data[\"TitleF\"] = data[\"Name\"].apply(lambda n: get_index(get_title(n), digest.titles))\n",
    "\n",
    "    data[\"TicketF\"] = data[\"Ticket\"].apply(lambda t: get_index(t, digest.tickets))\n",
    "\n",
    "    data[\"FamilyF\"] = data.apply(lambda r: get_index(get_family(r), digest.families), axis=1)\n",
    "\n",
    "    # для статистики\n",
    "    age_bins = [0, 5, 10, 15, 20, 25, 30, 40, 50, 60, 70, 80, 90]\n",
    "    data[\"AgeR\"] = pd.cut(data[\"Age\"].fillna(-1), bins=age_bins).astype(object)\n",
    "\n",
    "    return data"
   ]
  },
  {
   "cell_type": "code",
   "execution_count": 34,
   "metadata": {
    "collapsed": true
   },
   "outputs": [],
   "source": [
    "train_data_munged = munge_data(train_data, data_digest)\n",
    "test_data_munged = munge_data(test_data, data_digest)\n",
    "all_data_munged = pd.concat([train_data_munged, test_data_munged])"
   ]
  },
  {
   "cell_type": "code",
   "execution_count": 36,
   "metadata": {
    "collapsed": true
   },
   "outputs": [],
   "source": [
    "predictors = [\"Pclass\",\n",
    "              \"AgeF\",\n",
    "              \"TitleF\",\n",
    "              \"TitleD_mr\", \"TitleD_mrs\", \"TitleD_miss\", \"TitleD_master\", \"TitleD_ms\", \n",
    "              \"TitleD_col\", \"TitleD_rev\", \"TitleD_dr\",\n",
    "              \"CabinF\",\n",
    "              \"DeckF\",\n",
    "              \"DeckD_U\", \"DeckD_A\", \"DeckD_B\", \"DeckD_C\", \"DeckD_D\", \"DeckD_E\", \"DeckD_F\", \"DeckD_G\",\n",
    "              \"FamilyF\",\n",
    "              \"TicketF\",\n",
    "              \"SexF\",\n",
    "              \"SexD_male\", \"SexD_female\",\n",
    "              \"EmbarkedF\",\n",
    "              \"EmbarkedD_S\", \"EmbarkedD_C\", \"EmbarkedD_Q\",\n",
    "              \"FareF\",\n",
    "              \"SibSp\", \"Parch\",\n",
    "              \"RelativesF\",\n",
    "              \"SingleF\"]"
   ]
  },
  {
   "cell_type": "code",
   "execution_count": 37,
   "metadata": {
    "collapsed": false
   },
   "outputs": [],
   "source": [
    "scaler = StandardScaler()\n",
    "scaler.fit(all_data_munged[predictors])\n",
    "\n",
    "train_data_scaled = scaler.transform(train_data_munged[predictors])\n",
    "test_data_scaled = scaler.transform(test_data_munged[predictors])"
   ]
  },
  {
   "cell_type": "code",
   "execution_count": 39,
   "metadata": {
    "collapsed": false
   },
   "outputs": [
    {
     "name": "stdout",
     "output_type": "stream",
     "text": [
      "===== survived by age\n",
      "AgeR      Survived\n",
      "(0, 5]    1           0.704545\n",
      "          0           0.295455\n",
      "(10, 15]  1           0.578947\n",
      "          0           0.421053\n",
      "(15, 20]  0           0.656250\n",
      "          1           0.343750\n",
      "(20, 25]  0           0.655738\n",
      "          1           0.344262\n",
      "(25, 30]  0           0.611111\n",
      "          1           0.388889\n",
      "(30, 40]  0           0.554839\n",
      "          1           0.445161\n",
      "(40, 50]  0           0.616279\n",
      "          1           0.383721\n",
      "(5, 10]   0           0.650000\n",
      "          1           0.350000\n",
      "(50, 60]  0           0.595238\n",
      "          1           0.404762\n",
      "(60, 70]  0           0.764706\n",
      "          1           0.235294\n",
      "(70, 80]  0           0.800000\n",
      "          1           0.200000\n",
      "Name: Survived, dtype: float64\n",
      "===== survived by gender and age\n",
      "Sex     AgeR      Survived\n",
      "female  (0, 5]    1           0.761905\n",
      "                  0           0.238095\n",
      "        (10, 15]  1           0.750000\n",
      "                  0           0.250000\n",
      "        (15, 20]  1           0.735294\n",
      "                  0           0.264706\n",
      "        (20, 25]  1           0.755556\n",
      "                  0           0.244444\n",
      "        (25, 30]  1           0.750000\n",
      "                  0           0.250000\n",
      "        (30, 40]  1           0.836364\n",
      "                  0           0.163636\n",
      "        (40, 50]  1           0.677419\n",
      "                  0           0.322581\n",
      "        (5, 10]   0           0.700000\n",
      "                  1           0.300000\n",
      "        (50, 60]  1           0.928571\n",
      "                  0           0.071429\n",
      "        (60, 70]  1           1.000000\n",
      "male    (0, 5]    1           0.652174\n",
      "                  0           0.347826\n",
      "        (10, 15]  0           0.714286\n",
      "                  1           0.285714\n",
      "        (15, 20]  0           0.870968\n",
      "                  1           0.129032\n",
      "        (20, 25]  0           0.896104\n",
      "                  1           0.103896\n",
      "        (25, 30]  0           0.791667\n",
      "                  1           0.208333\n",
      "        (30, 40]  0           0.770000\n",
      "                  1           0.230000\n",
      "        (40, 50]  0           0.781818\n",
      "                  1           0.218182\n",
      "        (5, 10]   0           0.600000\n",
      "                  1           0.400000\n",
      "        (50, 60]  0           0.857143\n",
      "                  1           0.142857\n",
      "        (60, 70]  0           0.928571\n",
      "                  1           0.071429\n",
      "        (70, 80]  0           0.800000\n",
      "                  1           0.200000\n",
      "Name: Survived, dtype: float64\n",
      "===== survived by class and age\n",
      "Pclass  AgeR      Survived\n",
      "1       (0, 5]    1           0.666667\n",
      "                  0           0.333333\n",
      "        (10, 15]  1           1.000000\n",
      "        (15, 20]  1           0.800000\n",
      "                  0           0.200000\n",
      "        (20, 25]  1           0.761905\n",
      "                  0           0.238095\n",
      "        (25, 30]  1           0.684211\n",
      "                  0           0.315789\n",
      "        (30, 40]  1           0.755102\n",
      "                  0           0.244898\n",
      "        (40, 50]  1           0.567568\n",
      "                  0           0.432432\n",
      "        (50, 60]  1           0.600000\n",
      "                  0           0.400000\n",
      "        (60, 70]  0           0.818182\n",
      "                  1           0.181818\n",
      "        (70, 80]  0           0.666667\n",
      "                  1           0.333333\n",
      "2       (0, 5]    1           1.000000\n",
      "        (10, 15]  1           1.000000\n",
      "        (15, 20]  0           0.562500\n",
      "                  1           0.437500\n",
      "        (20, 25]  0           0.600000\n",
      "                  1           0.400000\n",
      "        (25, 30]  0           0.580645\n",
      "                  1           0.419355\n",
      "        (30, 40]  0           0.558140\n",
      "                  1           0.441860\n",
      "        (40, 50]  1           0.526316\n",
      "                  0           0.473684\n",
      "        (5, 10]   1           1.000000\n",
      "        (50, 60]  0           0.833333\n",
      "                  1           0.166667\n",
      "        (60, 70]  0           0.666667\n",
      "                  1           0.333333\n",
      "3       (0, 5]    1           0.571429\n",
      "                  0           0.428571\n",
      "        (10, 15]  0           0.571429\n",
      "                  1           0.428571\n",
      "        (15, 20]  0           0.784615\n",
      "                  1           0.215385\n",
      "        (20, 25]  0           0.802817\n",
      "                  1           0.197183\n",
      "        (25, 30]  0           0.724138\n",
      "                  1           0.275862\n",
      "        (30, 40]  0           0.793651\n",
      "                  1           0.206349\n",
      "        (40, 50]  0           0.933333\n",
      "                  1           0.066667\n",
      "        (5, 10]   0           0.812500\n",
      "                  1           0.187500\n",
      "        (50, 60]  0           1.000000\n",
      "        (60, 70]  0           0.666667\n",
      "                  1           0.333333\n",
      "        (70, 80]  0           1.000000\n",
      "Name: Survived, dtype: float64\n"
     ]
    }
   ],
   "source": [
    "print(\"===== survived by age\")\n",
    "print(train_data_munged.groupby([\"AgeR\"])[\"Survived\"].value_counts(normalize=True))\n",
    "\n",
    "print(\"===== survived by gender and age\")\n",
    "print(train_data_munged.groupby([\"Sex\", \"AgeR\"])[\"Survived\"].value_counts(normalize=True))\n",
    "\n",
    "print(\"===== survived by class and age\")\n",
    "print(train_data_munged.groupby([\"Pclass\", \"AgeR\"])[\"Survived\"].value_counts(normalize=True))"
   ]
  },
  {
   "cell_type": "code",
   "execution_count": 60,
   "metadata": {
    "collapsed": false
   },
   "outputs": [
    {
     "data": {
      "image/png": "[encoded data removed]",
      "text/plain": [
       "<matplotlib.figure.Figure at 0x11b23c1d0>"
      ]
     },
     "metadata": {},
     "output_type": "display_data"
    }
   ],
   "source": [
    "sns.pairplot(train_data_munged, vars=[\"AgeF\", \"Pclass\", \"SexF\"], hue=\"Survived\", dropna=True,size=10)\n",
    "sns.plt.show()"
   ]
  },
  {
   "cell_type": "code",
   "execution_count": 44,
   "metadata": {
    "collapsed": false
   },
   "outputs": [
    {
     "data": {
      "image/png": "[encoded data removed]",
      "text/plain": [
       "<matplotlib.figure.Figure at 0x11bb3ce10>"
      ]
     },
     "metadata": {},
     "output_type": "display_data"
    }
   ],
   "source": [
    "selector = SelectKBest(f_classif, k=5)\n",
    "selector.fit(train_data_munged[predictors], train_data_munged[\"Survived\"])\n",
    "\n",
    "scores = -np.log10(selector.pvalues_)\n",
    "\n",
    "plt.bar(range(len(predictors)), scores)\n",
    "plt.xticks(range(len(predictors)), predictors, rotation='vertical')\n",
    "plt.show()"
   ]
  },
  {
   "cell_type": "code",
   "execution_count": 45,
   "metadata": {
    "collapsed": true
   },
   "outputs": [],
   "source": [
    "cv = StratifiedKFold(train_data[\"Survived\"], n_folds=3, shuffle=True, random_state=1)"
   ]
  },
  {
   "cell_type": "code",
   "execution_count": 46,
   "metadata": {
    "collapsed": false
   },
   "outputs": [
    {
     "name": "stdout",
     "output_type": "stream",
     "text": [
      "Accuracy (k-neighbors): 0.795735129068/0.0111105442611\n"
     ]
    }
   ],
   "source": [
    "alg_ngbh = KNeighborsClassifier(n_neighbors=3)\n",
    "scores = cross_val_score(alg_ngbh, train_data_scaled, train_data_munged[\"Survived\"], cv=cv, n_jobs=-1)\n",
    "print(\"Accuracy (k-neighbors): {}/{}\".format(scores.mean(), scores.std()))"
   ]
  },
  {
   "cell_type": "code",
   "execution_count": 47,
   "metadata": {
    "collapsed": false
   },
   "outputs": [
    {
     "name": "stdout",
     "output_type": "stream",
     "text": [
      "Accuracy (sgd): 0.723905723906/0.0153066012312\n"
     ]
    }
   ],
   "source": [
    "alg_sgd = SGDClassifier(random_state=1)\n",
    "scores = cross_val_score(alg_sgd, train_data_scaled, train_data_munged[\"Survived\"], cv=cv, n_jobs=-1)\n",
    "print(\"Accuracy (sgd): {}/{}\".format(scores.mean(), scores.std()))"
   ]
  },
  {
   "cell_type": "code",
   "execution_count": 48,
   "metadata": {
    "collapsed": false
   },
   "outputs": [
    {
     "name": "stdout",
     "output_type": "stream",
     "text": [
      "Accuracy (svm): 0.819304152637/0.0104081015662\n"
     ]
    }
   ],
   "source": [
    "alg_svm = SVC(C=1.0)\n",
    "scores = cross_val_score(alg_svm, train_data_scaled, train_data_munged[\"Survived\"], cv=cv, n_jobs=-1)\n",
    "print(\"Accuracy (svm): {}/{}\".format(scores.mean(), scores.std()))"
   ]
  },
  {
   "cell_type": "code",
   "execution_count": 49,
   "metadata": {
    "collapsed": false
   },
   "outputs": [
    {
     "name": "stdout",
     "output_type": "stream",
     "text": [
      "Accuracy (naive bayes): 0.620650953984/0.163391237085\n"
     ]
    }
   ],
   "source": [
    "alg_nbs = GaussianNB()\n",
    "scores = cross_val_score(alg_nbs, train_data_scaled, train_data_munged[\"Survived\"], cv=cv, n_jobs=-1)\n",
    "print(\"Accuracy (naive bayes): {}/{}\".format(scores.mean(), scores.std()))"
   ]
  },
  {
   "cell_type": "code",
   "execution_count": 50,
   "metadata": {
    "collapsed": false
   },
   "outputs": [
    {
     "name": "stdout",
     "output_type": "stream",
     "text": [
      "Accuracy (linear regression): 0.812570145903/0.00965468604606\n"
     ]
    }
   ],
   "source": [
    "def linear_scorer(estimator, x, y):\n",
    "    scorer_predictions = estimator.predict(x)\n",
    "\n",
    "    scorer_predictions[scorer_predictions > 0.5] = 1\n",
    "    scorer_predictions[scorer_predictions <= 0.5] = 0\n",
    "\n",
    "    return metrics.accuracy_score(y, scorer_predictions)\n",
    "\n",
    "alg_lnr = LinearRegression()\n",
    "scores = cross_val_score(alg_lnr, train_data_scaled, train_data_munged[\"Survived\"], cv=cv, n_jobs=-1,\n",
    "                         scoring=linear_scorer)\n",
    "print(\"Accuracy (linear regression): {}/{}\".format(scores.mean(), scores.std()))"
   ]
  },
  {
   "cell_type": "code",
   "execution_count": 51,
   "metadata": {
    "collapsed": false
   },
   "outputs": [
    {
     "name": "stdout",
     "output_type": "stream",
     "text": [
      "Accuracy (logistic regression): 0.81593714927/0.0123965892449\n"
     ]
    }
   ],
   "source": [
    "alg_log = LogisticRegression(random_state=1)\n",
    "scores = cross_val_score(alg_log, train_data_scaled, train_data_munged[\"Survived\"], cv=cv, n_jobs=-1,\n",
    "                         scoring=linear_scorer)\n",
    "print(\"Accuracy (logistic regression): {}/{}\".format(scores.mean(), scores.std()))"
   ]
  },
  {
   "cell_type": "code",
   "execution_count": 52,
   "metadata": {
    "collapsed": false
   },
   "outputs": [
    {
     "name": "stdout",
     "output_type": "stream",
     "text": [
      "Accuracy (random forest): 0.829405162738/0.00419939100648\n"
     ]
    }
   ],
   "source": [
    "alg_frst = RandomForestClassifier(random_state=1, n_estimators=500, min_samples_split=8, min_samples_leaf=2)\n",
    "scores = cross_val_score(alg_frst, train_data_scaled, train_data_munged[\"Survived\"], cv=cv, n_jobs=-1)\n",
    "print(\"Accuracy (random forest): {}/{}\".format(scores.mean(), scores.std()))"
   ]
  },
  {
   "cell_type": "code",
   "execution_count": 53,
   "metadata": {
    "collapsed": false
   },
   "outputs": [
    {
     "name": "stdout",
     "output_type": "stream",
     "text": [
      "Fitting 3 folds for each of 27 candidates, totalling 81 fits\n"
     ]
    },
    {
     "name": "stderr",
     "output_type": "stream",
     "text": [
      "[Parallel(n_jobs=-1)]: Done  42 tasks      | elapsed:   52.1s\n",
      "[Parallel(n_jobs=-1)]: Done  81 out of  81 | elapsed:  1.6min finished\n"
     ]
    },
    {
     "name": "stdout",
     "output_type": "stream",
     "text": [
      "Accuracy (random forest auto): 0.837261503928 with params {'min_samples_split': 6, 'n_estimators': 400, 'min_samples_leaf': 4}\n"
     ]
    }
   ],
   "source": [
    "alg_frst_model = RandomForestClassifier(random_state=1)\n",
    "alg_frst_params = [{\n",
    "    \"n_estimators\": [350, 400, 450],\n",
    "    \"min_samples_split\": [6, 8, 10],\n",
    "    \"min_samples_leaf\": [1, 2, 4]\n",
    "}]\n",
    "alg_frst_grid = GridSearchCV(alg_frst_model, alg_frst_params, cv=cv, refit=True, verbose=1, n_jobs=-1)\n",
    "alg_frst_grid.fit(train_data_scaled, train_data_munged[\"Survived\"])\n",
    "alg_frst_best = alg_frst_grid.best_estimator_\n",
    "print(\"Accuracy (random forest auto): {} with params {}\"\n",
    "      .format(alg_frst_grid.best_score_, alg_frst_grid.best_params_))"
   ]
  },
  {
   "cell_type": "code",
   "execution_count": 55,
   "metadata": {
    "collapsed": false
   },
   "outputs": [
    {
     "name": "stdout",
     "output_type": "stream",
     "text": [
      "Fitting 3 folds for each of 27 candidates, totalling 81 fits\n"
     ]
    },
    {
     "name": "stderr",
     "output_type": "stream",
     "text": [
      "[Parallel(n_jobs=1)]: Done  81 out of  81 | elapsed:   14.1s finished\n"
     ]
    },
    {
     "name": "stdout",
     "output_type": "stream",
     "text": [
      "Accuracy (xgboost auto): 0.833894500561 with params {'n_estimators': 270, 'learning_rate': 0.02, 'max_depth': 2}\n"
     ]
    }
   ],
   "source": [
    "ald_xgb_model = xgb.XGBClassifier()\n",
    "ald_xgb_params = [\n",
    "    {\"n_estimators\": [230, 250, 270],\n",
    "     \"max_depth\": [1, 2, 4],\n",
    "     \"learning_rate\": [0.01, 0.02, 0.05]}\n",
    "]\n",
    "alg_xgb_grid = GridSearchCV(ald_xgb_model, ald_xgb_params, cv=cv, refit=True, verbose=1)\n",
    "alg_xgb_grid.fit(train_data_scaled, train_data_munged[\"Survived\"])\n",
    "alg_xgb_best = alg_xgb_grid.best_estimator_\n",
    "print(\"Accuracy (xgboost auto): {} with params {}\"\n",
    "      .format(alg_xgb_grid.best_score_, alg_xgb_grid.best_params_))"
   ]
  },
  {
   "cell_type": "code",
   "execution_count": null,
   "metadata": {
    "collapsed": true
   },
   "outputs": [],
   "source": []
  }
 ],
 "metadata": {
  "kernelspec": {
   "display_name": "Python [default]",
   "language": "python",
   "name": "python2"
  },
  "language_info": {
   "codemirror_mode": {
    "name": "ipython",
    "version": 2
   },
   "file_extension": ".py",
   "mimetype": "text/x-python",
   "name": "python",
   "nbconvert_exporter": "python",
   "pygments_lexer": "ipython2",
   "version": "2.7.13"
  }
 },
 "nbformat": 4,
 "nbformat_minor": 2
}
